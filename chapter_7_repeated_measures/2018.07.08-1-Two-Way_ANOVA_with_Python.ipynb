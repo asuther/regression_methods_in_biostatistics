{
 "cells": [
  {
   "cell_type": "markdown",
   "metadata": {},
   "source": [
    "# Two-Way_ANOVA_with_Python"
   ]
  },
  {
   "cell_type": "markdown",
   "metadata": {},
   "source": [
    "**Background: **In this notebook, I will be calculating the F-score for the two-way ANOVA for the fecal fat data. These data are the fat in grams per day from one of six subjects, measured after they received one of four different pill types. I have already performed this analysis using a one-way ANOVA F-test using an R kernel, which I will repeat here, but defining the details of a two-way ANOVA test in R is quite complex for such a simple test.\n",
    "\n",
    "**Purpose: **To use statsmodels to perform this test. \n",
    "\n",
    "**Methods: **First, I will load the data. Then, I will format it for use with stats models. Then, I will run a one-way ANOVA test using stats models and verify that I get the same answer as I did using R. Then, I will run a two-way ANOVA test on the data using statsmodels and confirm my answer with the textbook. \n",
    "\n",
    "**Conclusions: **\n",
    "* These results match the book results, so I know that the one-way ANOVA is working properly.\n",
    "* These results match those given in the book, except that these results don't include the F-score/p-value for the model itself."
   ]
  },
  {
   "cell_type": "markdown",
   "metadata": {},
   "source": [
    "# Inits"
   ]
  },
  {
   "cell_type": "markdown",
   "metadata": {},
   "source": [
    "## Imports"
   ]
  },
  {
   "cell_type": "code",
   "execution_count": 1,
   "metadata": {},
   "outputs": [],
   "source": [
    "import numpy as np\n",
    "import pandas as pd\n",
    "from statsmodels.formula.api import ols\n",
    "from statsmodels.stats.anova import anova_lm"
   ]
  },
  {
   "cell_type": "markdown",
   "metadata": {},
   "source": [
    "## Definitions"
   ]
  },
  {
   "cell_type": "code",
   "execution_count": null,
   "metadata": {},
   "outputs": [],
   "source": []
  },
  {
   "cell_type": "markdown",
   "metadata": {},
   "source": [
    "## Funcs"
   ]
  },
  {
   "cell_type": "code",
   "execution_count": null,
   "metadata": {},
   "outputs": [],
   "source": []
  },
  {
   "cell_type": "markdown",
   "metadata": {},
   "source": [
    "# Generate Data"
   ]
  },
  {
   "cell_type": "markdown",
   "metadata": {},
   "source": [
    "## Load data"
   ]
  },
  {
   "cell_type": "code",
   "execution_count": 2,
   "metadata": {},
   "outputs": [],
   "source": [
    "fecfat_df = pd.read_csv('./data/fecfat.csv')"
   ]
  },
  {
   "cell_type": "markdown",
   "metadata": {},
   "source": [
    "## Format for use with statsmodels"
   ]
  },
  {
   "cell_type": "code",
   "execution_count": 3,
   "metadata": {},
   "outputs": [],
   "source": [
    "fecfat_df['subject'] = fecfat_df['subject'].astype(str)"
   ]
  },
  {
   "cell_type": "code",
   "execution_count": 4,
   "metadata": {},
   "outputs": [
    {
     "data": {
      "text/html": [
       "<div>\n",
       "<style scoped>\n",
       "    .dataframe tbody tr th:only-of-type {\n",
       "        vertical-align: middle;\n",
       "    }\n",
       "\n",
       "    .dataframe tbody tr th {\n",
       "        vertical-align: top;\n",
       "    }\n",
       "\n",
       "    .dataframe thead th {\n",
       "        text-align: right;\n",
       "    }\n",
       "</style>\n",
       "<table border=\"1\" class=\"dataframe\">\n",
       "  <thead>\n",
       "    <tr style=\"text-align: right;\">\n",
       "      <th></th>\n",
       "      <th>fecfat</th>\n",
       "      <th>subject</th>\n",
       "      <th>pilltype</th>\n",
       "    </tr>\n",
       "  </thead>\n",
       "  <tbody>\n",
       "    <tr>\n",
       "      <th>0</th>\n",
       "      <td>44.5</td>\n",
       "      <td>1</td>\n",
       "      <td>none</td>\n",
       "    </tr>\n",
       "    <tr>\n",
       "      <th>1</th>\n",
       "      <td>7.3</td>\n",
       "      <td>1</td>\n",
       "      <td>tablet</td>\n",
       "    </tr>\n",
       "    <tr>\n",
       "      <th>2</th>\n",
       "      <td>3.4</td>\n",
       "      <td>1</td>\n",
       "      <td>capsule</td>\n",
       "    </tr>\n",
       "    <tr>\n",
       "      <th>3</th>\n",
       "      <td>12.4</td>\n",
       "      <td>1</td>\n",
       "      <td>coated</td>\n",
       "    </tr>\n",
       "    <tr>\n",
       "      <th>4</th>\n",
       "      <td>33.0</td>\n",
       "      <td>2</td>\n",
       "      <td>none</td>\n",
       "    </tr>\n",
       "  </tbody>\n",
       "</table>\n",
       "</div>"
      ],
      "text/plain": [
       "   fecfat subject pilltype\n",
       "0    44.5       1     none\n",
       "1     7.3       1   tablet\n",
       "2     3.4       1  capsule\n",
       "3    12.4       1   coated\n",
       "4    33.0       2     none"
      ]
     },
     "execution_count": 4,
     "metadata": {},
     "output_type": "execute_result"
    }
   ],
   "source": [
    "fecfat_df.head()"
   ]
  },
  {
   "cell_type": "markdown",
   "metadata": {},
   "source": [
    "# One-Way ANOVA"
   ]
  },
  {
   "cell_type": "markdown",
   "metadata": {},
   "source": [
    "## Run a one-way ANOVA test using stats models"
   ]
  },
  {
   "cell_type": "code",
   "execution_count": 5,
   "metadata": {},
   "outputs": [],
   "source": [
    "one_way_anova_formula = 'fecfat ~ C(pilltype)'"
   ]
  },
  {
   "cell_type": "code",
   "execution_count": 6,
   "metadata": {},
   "outputs": [],
   "source": [
    "one_way_model = ols(formula=one_way_anova_formula, data = fecfat_df).fit()\n",
    "one_way_aov_table = anova_lm(one_way_model, typ=1)"
   ]
  },
  {
   "cell_type": "code",
   "execution_count": 7,
   "metadata": {},
   "outputs": [
    {
     "data": {
      "text/html": [
       "<div>\n",
       "<style scoped>\n",
       "    .dataframe tbody tr th:only-of-type {\n",
       "        vertical-align: middle;\n",
       "    }\n",
       "\n",
       "    .dataframe tbody tr th {\n",
       "        vertical-align: top;\n",
       "    }\n",
       "\n",
       "    .dataframe thead th {\n",
       "        text-align: right;\n",
       "    }\n",
       "</style>\n",
       "<table border=\"1\" class=\"dataframe\">\n",
       "  <thead>\n",
       "    <tr style=\"text-align: right;\">\n",
       "      <th></th>\n",
       "      <th>df</th>\n",
       "      <th>sum_sq</th>\n",
       "      <th>mean_sq</th>\n",
       "      <th>F</th>\n",
       "      <th>PR(&gt;F)</th>\n",
       "    </tr>\n",
       "  </thead>\n",
       "  <tbody>\n",
       "    <tr>\n",
       "      <th>C(pilltype)</th>\n",
       "      <td>3.0</td>\n",
       "      <td>2008.601702</td>\n",
       "      <td>669.533901</td>\n",
       "      <td>1.861532</td>\n",
       "      <td>0.168656</td>\n",
       "    </tr>\n",
       "    <tr>\n",
       "      <th>Residual</th>\n",
       "      <td>20.0</td>\n",
       "      <td>7193.363277</td>\n",
       "      <td>359.668164</td>\n",
       "      <td>NaN</td>\n",
       "      <td>NaN</td>\n",
       "    </tr>\n",
       "  </tbody>\n",
       "</table>\n",
       "</div>"
      ],
      "text/plain": [
       "               df       sum_sq     mean_sq         F    PR(>F)\n",
       "C(pilltype)   3.0  2008.601702  669.533901  1.861532  0.168656\n",
       "Residual     20.0  7193.363277  359.668164       NaN       NaN"
      ]
     },
     "execution_count": 7,
     "metadata": {},
     "output_type": "execute_result"
    }
   ],
   "source": [
    "one_way_aov_table"
   ]
  },
  {
   "cell_type": "code",
   "execution_count": 23,
   "metadata": {},
   "outputs": [
    {
     "data": {
      "text/plain": [
       "<bound method LikelihoodModelResults.f_test of <statsmodels.regression.linear_model.OLSResults object at 0x109821438>>"
      ]
     },
     "execution_count": 23,
     "metadata": {},
     "output_type": "execute_result"
    }
   ],
   "source": [
    "one_way_model.f_test()"
   ]
  },
  {
   "cell_type": "code",
   "execution_count": 69,
   "metadata": {},
   "outputs": [
    {
     "data": {
      "text/html": [
       "<div>\n",
       "<style scoped>\n",
       "    .dataframe tbody tr th:only-of-type {\n",
       "        vertical-align: middle;\n",
       "    }\n",
       "\n",
       "    .dataframe tbody tr th {\n",
       "        vertical-align: top;\n",
       "    }\n",
       "\n",
       "    .dataframe thead th {\n",
       "        text-align: right;\n",
       "    }\n",
       "</style>\n",
       "<table border=\"1\" class=\"dataframe\">\n",
       "  <thead>\n",
       "    <tr style=\"text-align: right;\">\n",
       "      <th></th>\n",
       "      <th>Intercept</th>\n",
       "      <th>C(pilltype)[T.coated]</th>\n",
       "      <th>C(pilltype)[T.none]</th>\n",
       "      <th>C(pilltype)[T.tablet]</th>\n",
       "    </tr>\n",
       "  </thead>\n",
       "  <tbody>\n",
       "    <tr>\n",
       "      <th>Intercept</th>\n",
       "      <td>0.166667</td>\n",
       "      <td>-0.166667</td>\n",
       "      <td>-0.166667</td>\n",
       "      <td>-0.166667</td>\n",
       "    </tr>\n",
       "    <tr>\n",
       "      <th>C(pilltype)[T.coated]</th>\n",
       "      <td>-0.166667</td>\n",
       "      <td>0.333333</td>\n",
       "      <td>0.166667</td>\n",
       "      <td>0.166667</td>\n",
       "    </tr>\n",
       "    <tr>\n",
       "      <th>C(pilltype)[T.none]</th>\n",
       "      <td>-0.166667</td>\n",
       "      <td>0.166667</td>\n",
       "      <td>0.333333</td>\n",
       "      <td>0.166667</td>\n",
       "    </tr>\n",
       "    <tr>\n",
       "      <th>C(pilltype)[T.tablet]</th>\n",
       "      <td>-0.166667</td>\n",
       "      <td>0.166667</td>\n",
       "      <td>0.166667</td>\n",
       "      <td>0.333333</td>\n",
       "    </tr>\n",
       "  </tbody>\n",
       "</table>\n",
       "</div>"
      ],
      "text/plain": [
       "                       Intercept  C(pilltype)[T.coated]  C(pilltype)[T.none]  \\\n",
       "Intercept               0.166667              -0.166667            -0.166667   \n",
       "C(pilltype)[T.coated]  -0.166667               0.333333             0.166667   \n",
       "C(pilltype)[T.none]    -0.166667               0.166667             0.333333   \n",
       "C(pilltype)[T.tablet]  -0.166667               0.166667             0.166667   \n",
       "\n",
       "                       C(pilltype)[T.tablet]  \n",
       "Intercept                          -0.166667  \n",
       "C(pilltype)[T.coated]               0.166667  \n",
       "C(pilltype)[T.none]                 0.166667  \n",
       "C(pilltype)[T.tablet]               0.333333  "
      ]
     },
     "execution_count": 69,
     "metadata": {},
     "output_type": "execute_result"
    }
   ],
   "source": [
    "one_way_model.normalized_cov_params"
   ]
  },
  {
   "cell_type": "code",
   "execution_count": 63,
   "metadata": {},
   "outputs": [
    {
     "data": {
      "text/html": [
       "<div>\n",
       "<style scoped>\n",
       "    .dataframe tbody tr th:only-of-type {\n",
       "        vertical-align: middle;\n",
       "    }\n",
       "\n",
       "    .dataframe tbody tr th {\n",
       "        vertical-align: top;\n",
       "    }\n",
       "\n",
       "    .dataframe thead th {\n",
       "        text-align: right;\n",
       "    }\n",
       "</style>\n",
       "<table border=\"1\" class=\"dataframe\">\n",
       "  <thead>\n",
       "    <tr style=\"text-align: right;\">\n",
       "      <th></th>\n",
       "      <th>Intercept</th>\n",
       "      <th>C(pilltype)[T.coated]</th>\n",
       "      <th>C(pilltype)[T.none]</th>\n",
       "      <th>C(pilltype)[T.tablet]</th>\n",
       "    </tr>\n",
       "  </thead>\n",
       "  <tbody>\n",
       "    <tr>\n",
       "      <th>Intercept</th>\n",
       "      <td>359.668164</td>\n",
       "      <td>359.668164</td>\n",
       "      <td>359.668164</td>\n",
       "      <td>359.668164</td>\n",
       "    </tr>\n",
       "    <tr>\n",
       "      <th>C(pilltype)[T.coated]</th>\n",
       "      <td>359.668164</td>\n",
       "      <td>359.668164</td>\n",
       "      <td>359.668164</td>\n",
       "      <td>359.668164</td>\n",
       "    </tr>\n",
       "    <tr>\n",
       "      <th>C(pilltype)[T.none]</th>\n",
       "      <td>359.668164</td>\n",
       "      <td>359.668164</td>\n",
       "      <td>359.668164</td>\n",
       "      <td>359.668164</td>\n",
       "    </tr>\n",
       "    <tr>\n",
       "      <th>C(pilltype)[T.tablet]</th>\n",
       "      <td>359.668164</td>\n",
       "      <td>359.668164</td>\n",
       "      <td>359.668164</td>\n",
       "      <td>359.668164</td>\n",
       "    </tr>\n",
       "  </tbody>\n",
       "</table>\n",
       "</div>"
      ],
      "text/plain": [
       "                        Intercept  C(pilltype)[T.coated]  C(pilltype)[T.none]  \\\n",
       "Intercept              359.668164             359.668164           359.668164   \n",
       "C(pilltype)[T.coated]  359.668164             359.668164           359.668164   \n",
       "C(pilltype)[T.none]    359.668164             359.668164           359.668164   \n",
       "C(pilltype)[T.tablet]  359.668164             359.668164           359.668164   \n",
       "\n",
       "                       C(pilltype)[T.tablet]  \n",
       "Intercept                         359.668164  \n",
       "C(pilltype)[T.coated]             359.668164  \n",
       "C(pilltype)[T.none]               359.668164  \n",
       "C(pilltype)[T.tablet]             359.668164  "
      ]
     },
     "execution_count": 63,
     "metadata": {},
     "output_type": "execute_result"
    }
   ],
   "source": [
    "one_way_model.cov_params() / one_way_model.normalized_cov_params"
   ]
  },
  {
   "cell_type": "code",
   "execution_count": 42,
   "metadata": {},
   "outputs": [
    {
     "data": {
      "text/html": [
       "<div>\n",
       "<style scoped>\n",
       "    .dataframe tbody tr th:only-of-type {\n",
       "        vertical-align: middle;\n",
       "    }\n",
       "\n",
       "    .dataframe tbody tr th {\n",
       "        vertical-align: top;\n",
       "    }\n",
       "\n",
       "    .dataframe thead th {\n",
       "        text-align: right;\n",
       "    }\n",
       "</style>\n",
       "<table border=\"1\" class=\"dataframe\">\n",
       "  <thead>\n",
       "    <tr style=\"text-align: right;\">\n",
       "      <th></th>\n",
       "      <th>Intercept</th>\n",
       "      <th>C(pilltype)[T.coated]</th>\n",
       "      <th>C(pilltype)[T.none]</th>\n",
       "      <th>C(pilltype)[T.tablet]</th>\n",
       "    </tr>\n",
       "  </thead>\n",
       "  <tbody>\n",
       "    <tr>\n",
       "      <th>Intercept</th>\n",
       "      <td>59.944694</td>\n",
       "      <td>-59.944694</td>\n",
       "      <td>-59.944694</td>\n",
       "      <td>-59.944694</td>\n",
       "    </tr>\n",
       "    <tr>\n",
       "      <th>C(pilltype)[T.coated]</th>\n",
       "      <td>-59.944694</td>\n",
       "      <td>119.889388</td>\n",
       "      <td>59.944694</td>\n",
       "      <td>59.944694</td>\n",
       "    </tr>\n",
       "    <tr>\n",
       "      <th>C(pilltype)[T.none]</th>\n",
       "      <td>-59.944694</td>\n",
       "      <td>59.944694</td>\n",
       "      <td>119.889388</td>\n",
       "      <td>59.944694</td>\n",
       "    </tr>\n",
       "    <tr>\n",
       "      <th>C(pilltype)[T.tablet]</th>\n",
       "      <td>-59.944694</td>\n",
       "      <td>59.944694</td>\n",
       "      <td>59.944694</td>\n",
       "      <td>119.889388</td>\n",
       "    </tr>\n",
       "  </tbody>\n",
       "</table>\n",
       "</div>"
      ],
      "text/plain": [
       "                       Intercept  C(pilltype)[T.coated]  C(pilltype)[T.none]  \\\n",
       "Intercept              59.944694             -59.944694           -59.944694   \n",
       "C(pilltype)[T.coated] -59.944694             119.889388            59.944694   \n",
       "C(pilltype)[T.none]   -59.944694              59.944694           119.889388   \n",
       "C(pilltype)[T.tablet] -59.944694              59.944694            59.944694   \n",
       "\n",
       "                       C(pilltype)[T.tablet]  \n",
       "Intercept                         -59.944694  \n",
       "C(pilltype)[T.coated]              59.944694  \n",
       "C(pilltype)[T.none]                59.944694  \n",
       "C(pilltype)[T.tablet]             119.889388  "
      ]
     },
     "execution_count": 42,
     "metadata": {},
     "output_type": "execute_result"
    }
   ],
   "source": [
    "robust_cov = one_way_model.cov_params()\n",
    "robust_cov"
   ]
  },
  {
   "cell_type": "code",
   "execution_count": 32,
   "metadata": {
    "scrolled": true
   },
   "outputs": [],
   "source": [
    "fecfat_pivot_df = fecfat_df.pivot_table(values='fecfat', index='subject', columns='pilltype')"
   ]
  },
  {
   "cell_type": "code",
   "execution_count": 67,
   "metadata": {},
   "outputs": [
    {
     "data": {
      "text/plain": [
       "9201.964979157472"
      ]
     },
     "execution_count": 67,
     "metadata": {},
     "output_type": "execute_result"
    }
   ],
   "source": [
    "(fecfat_df['fecfat'] - fecfat_df['fecfat'].mean()).map(lambda x: x ** 2).sum()"
   ]
  },
  {
   "cell_type": "code",
   "execution_count": 56,
   "metadata": {},
   "outputs": [
    {
     "data": {
      "text/plain": [
       "836.8883415412893"
      ]
     },
     "execution_count": 56,
     "metadata": {},
     "output_type": "execute_result"
    }
   ],
   "source": [
    "(fecfat_pivot_df['capsule'] - fecfat_pivot_df['capsule'].mean()).map(lambda x: x ** 2).sum()"
   ]
  },
  {
   "cell_type": "code",
   "execution_count": 29,
   "metadata": {},
   "outputs": [
    {
     "data": {
      "text/html": [
       "<div>\n",
       "<style scoped>\n",
       "    .dataframe tbody tr th:only-of-type {\n",
       "        vertical-align: middle;\n",
       "    }\n",
       "\n",
       "    .dataframe tbody tr th {\n",
       "        vertical-align: top;\n",
       "    }\n",
       "\n",
       "    .dataframe thead th {\n",
       "        text-align: right;\n",
       "    }\n",
       "</style>\n",
       "<table border=\"1\" class=\"dataframe\">\n",
       "  <thead>\n",
       "    <tr style=\"text-align: right;\">\n",
       "      <th></th>\n",
       "      <th>Intercept</th>\n",
       "      <th>C(pilltype)[T.coated]</th>\n",
       "      <th>C(pilltype)[T.none]</th>\n",
       "      <th>C(pilltype)[T.tablet]</th>\n",
       "    </tr>\n",
       "  </thead>\n",
       "  <tbody>\n",
       "    <tr>\n",
       "      <th>Intercept</th>\n",
       "      <td>59.944694</td>\n",
       "      <td>-59.944694</td>\n",
       "      <td>-59.944694</td>\n",
       "      <td>-59.944694</td>\n",
       "    </tr>\n",
       "    <tr>\n",
       "      <th>C(pilltype)[T.coated]</th>\n",
       "      <td>-59.944694</td>\n",
       "      <td>119.889388</td>\n",
       "      <td>59.944694</td>\n",
       "      <td>59.944694</td>\n",
       "    </tr>\n",
       "    <tr>\n",
       "      <th>C(pilltype)[T.none]</th>\n",
       "      <td>-59.944694</td>\n",
       "      <td>59.944694</td>\n",
       "      <td>119.889388</td>\n",
       "      <td>59.944694</td>\n",
       "    </tr>\n",
       "    <tr>\n",
       "      <th>C(pilltype)[T.tablet]</th>\n",
       "      <td>-59.944694</td>\n",
       "      <td>59.944694</td>\n",
       "      <td>59.944694</td>\n",
       "      <td>119.889388</td>\n",
       "    </tr>\n",
       "  </tbody>\n",
       "</table>\n",
       "</div>"
      ],
      "text/plain": [
       "                       Intercept  C(pilltype)[T.coated]  C(pilltype)[T.none]  \\\n",
       "Intercept              59.944694             -59.944694           -59.944694   \n",
       "C(pilltype)[T.coated] -59.944694             119.889388            59.944694   \n",
       "C(pilltype)[T.none]   -59.944694              59.944694           119.889388   \n",
       "C(pilltype)[T.tablet] -59.944694              59.944694            59.944694   \n",
       "\n",
       "                       C(pilltype)[T.tablet]  \n",
       "Intercept                         -59.944694  \n",
       "C(pilltype)[T.coated]              59.944694  \n",
       "C(pilltype)[T.none]                59.944694  \n",
       "C(pilltype)[T.tablet]             119.889388  "
      ]
     },
     "execution_count": 29,
     "metadata": {},
     "output_type": "execute_result"
    }
   ],
   "source": [
    "robust_cov"
   ]
  },
  {
   "cell_type": "code",
   "execution_count": 27,
   "metadata": {},
   "outputs": [
    {
     "ename": "NameError",
     "evalue": "name 'robust_cov' is not defined",
     "output_type": "error",
     "traceback": [
      "\u001b[0;31m---------------------------------------------------------------------------\u001b[0m",
      "\u001b[0;31mNameError\u001b[0m                                 Traceback (most recent call last)",
      "\u001b[0;32m<ipython-input-27-e5d82ea8be47>\u001b[0m in \u001b[0;36m<module>\u001b[0;34m()\u001b[0m\n\u001b[1;32m     39\u001b[0m     \u001b[0;31m#from IPython.core.debugger import Pdb; Pdb().set_trace()\u001b[0m\u001b[0;34m\u001b[0m\u001b[0;34m\u001b[0m\u001b[0m\n\u001b[1;32m     40\u001b[0m \u001b[0;34m\u001b[0m\u001b[0m\n\u001b[0;32m---> 41\u001b[0;31m     \u001b[0mf\u001b[0m \u001b[0;34m=\u001b[0m \u001b[0mone_way_model\u001b[0m\u001b[0;34m.\u001b[0m\u001b[0mf_test\u001b[0m\u001b[0;34m(\u001b[0m\u001b[0mL12\u001b[0m\u001b[0;34m,\u001b[0m \u001b[0mcov_p\u001b[0m\u001b[0;34m=\u001b[0m\u001b[0mrobust_cov\u001b[0m\u001b[0;34m)\u001b[0m\u001b[0;34m\u001b[0m\u001b[0m\n\u001b[0m\u001b[1;32m     42\u001b[0m     \u001b[0mtable\u001b[0m\u001b[0;34m.\u001b[0m\u001b[0mloc\u001b[0m\u001b[0;34m[\u001b[0m\u001b[0mtable\u001b[0m\u001b[0;34m.\u001b[0m\u001b[0mindex\u001b[0m\u001b[0;34m[\u001b[0m\u001b[0mi\u001b[0m\u001b[0;34m]\u001b[0m\u001b[0;34m,\u001b[0m \u001b[0mtest\u001b[0m\u001b[0;34m]\u001b[0m \u001b[0;34m=\u001b[0m \u001b[0mtest_value\u001b[0m \u001b[0;34m=\u001b[0m \u001b[0mf\u001b[0m\u001b[0;34m.\u001b[0m\u001b[0mfvalue\u001b[0m\u001b[0;34m\u001b[0m\u001b[0m\n\u001b[1;32m     43\u001b[0m     \u001b[0mtable\u001b[0m\u001b[0;34m.\u001b[0m\u001b[0mloc\u001b[0m\u001b[0;34m[\u001b[0m\u001b[0mtable\u001b[0m\u001b[0;34m.\u001b[0m\u001b[0mindex\u001b[0m\u001b[0;34m[\u001b[0m\u001b[0mi\u001b[0m\u001b[0;34m]\u001b[0m\u001b[0;34m,\u001b[0m \u001b[0mpr_test\u001b[0m\u001b[0;34m]\u001b[0m \u001b[0;34m=\u001b[0m \u001b[0mf\u001b[0m\u001b[0;34m.\u001b[0m\u001b[0mpvalue\u001b[0m\u001b[0;34m\u001b[0m\u001b[0m\n",
      "\u001b[0;31mNameError\u001b[0m: name 'robust_cov' is not defined"
     ]
    }
   ],
   "source": [
    "from statsmodels.formula.formulatools import (_remove_intercept_patsy,\n",
    "                                    _has_intercept, _intercept_idx)\n",
    "from statsmodels.compat.python import lrange, lmap\n",
    "design_info = one_way_model.model.data.design_info\n",
    "terms_info = design_info.terms[:]\n",
    "terms_info = _remove_intercept_patsy(terms_info)\n",
    "\n",
    "robust_cov = one_way_model.cov_params()\n",
    "\n",
    "for i, term in enumerate(terms_info):\n",
    "    cols = design_info.slice(term)\n",
    "    # grab all varaibles except interaction effects that contain term\n",
    "    # need two hypotheses matrices L1 is most restrictive, ie., term==0\n",
    "    # L2 is everything except term==0\n",
    "    cols = design_info.slice(term)\n",
    "    L1 = lrange(cols.start, cols.stop)\n",
    "    L2 = []\n",
    "    term_set = set(term.factors)\n",
    "    for t in terms_info: # for the term you have\n",
    "        other_set = set(t.factors)\n",
    "        if term_set.issubset(other_set) and not term_set == other_set:\n",
    "            col = design_info.slice(t)\n",
    "            # on a higher order term containing current `term`\n",
    "            L1.extend(lrange(col.start, col.stop))\n",
    "            L2.extend(lrange(col.start, col.stop))\n",
    "\n",
    "    L1 = np.eye(one_way_model.model.exog.shape[1])[L1]\n",
    "    L2 = np.eye(one_way_model.model.exog.shape[1])[L2]\n",
    "\n",
    "    if L2.size:\n",
    "        LVL = np.dot(np.dot(L1,robust_cov),L2.T)\n",
    "        from scipy import linalg\n",
    "        orth_compl,_ = linalg.qr(LVL)\n",
    "        r = L1.shape[0] - L2.shape[0]\n",
    "        # L1|2\n",
    "        # use the non-unique orthogonal completion since L12 is rank r\n",
    "        L12 = np.dot(orth_compl[:,-r:].T, L1)\n",
    "    else:\n",
    "        L12 = L1\n",
    "        r = L1.shape[0]\n",
    "    #from IPython.core.debugger import Pdb; Pdb().set_trace()\n",
    "\n",
    "    f = one_way_model.f_test(L12, cov_p=robust_cov)\n",
    "    table.loc[table.index[i], test] = test_value = f.fvalue\n",
    "    table.loc[table.index[i], pr_test] = f.pvalue    "
   ]
  },
  {
   "cell_type": "markdown",
   "metadata": {},
   "source": [
    "## Verify answer"
   ]
  },
  {
   "cell_type": "markdown",
   "metadata": {},
   "source": [
    "**These results match the book results, so I know that the one-way ANOVA is working properly.**"
   ]
  },
  {
   "cell_type": "markdown",
   "metadata": {},
   "source": [
    "# Two-Way ANOVA"
   ]
  },
  {
   "cell_type": "markdown",
   "metadata": {},
   "source": [
    "## Run a two-way ANOVA test using statsmodels "
   ]
  },
  {
   "cell_type": "code",
   "execution_count": 17,
   "metadata": {},
   "outputs": [
    {
     "data": {
      "text/html": [
       "<div>\n",
       "<style scoped>\n",
       "    .dataframe tbody tr th:only-of-type {\n",
       "        vertical-align: middle;\n",
       "    }\n",
       "\n",
       "    .dataframe tbody tr th {\n",
       "        vertical-align: top;\n",
       "    }\n",
       "\n",
       "    .dataframe thead th {\n",
       "        text-align: right;\n",
       "    }\n",
       "</style>\n",
       "<table border=\"1\" class=\"dataframe\">\n",
       "  <thead>\n",
       "    <tr style=\"text-align: right;\">\n",
       "      <th></th>\n",
       "      <th>sum_sq</th>\n",
       "      <th>df</th>\n",
       "      <th>F</th>\n",
       "      <th>PR(&gt;F)</th>\n",
       "    </tr>\n",
       "  </thead>\n",
       "  <tbody>\n",
       "    <tr>\n",
       "      <th>C(pilltype)</th>\n",
       "      <td>2008.601702</td>\n",
       "      <td>3.0</td>\n",
       "      <td>6.257391</td>\n",
       "      <td>0.005741</td>\n",
       "    </tr>\n",
       "    <tr>\n",
       "      <th>C(subject)</th>\n",
       "      <td>5588.379959</td>\n",
       "      <td>5.0</td>\n",
       "      <td>10.445679</td>\n",
       "      <td>0.000182</td>\n",
       "    </tr>\n",
       "    <tr>\n",
       "      <th>Residual</th>\n",
       "      <td>1604.983318</td>\n",
       "      <td>15.0</td>\n",
       "      <td>NaN</td>\n",
       "      <td>NaN</td>\n",
       "    </tr>\n",
       "  </tbody>\n",
       "</table>\n",
       "</div>"
      ],
      "text/plain": [
       "                  sum_sq    df          F    PR(>F)\n",
       "C(pilltype)  2008.601702   3.0   6.257391  0.005741\n",
       "C(subject)   5588.379959   5.0  10.445679  0.000182\n",
       "Residual     1604.983318  15.0        NaN       NaN"
      ]
     },
     "execution_count": 17,
     "metadata": {},
     "output_type": "execute_result"
    }
   ],
   "source": [
    "two_way_anova_formula = 'fecfat ~ C(pilltype) + C(subject)'\n",
    "two_way_model = ols(formula=two_way_anova_formula, data = fecfat_df).fit()\n",
    "two_way_aov_table = anova_lm(two_way_model, typ=2)\n",
    "two_way_aov_table"
   ]
  },
  {
   "cell_type": "markdown",
   "metadata": {},
   "source": [
    "## Verify answer"
   ]
  },
  {
   "cell_type": "markdown",
   "metadata": {},
   "source": [
    "**These results match those given in the book, except that these results don't include the F-score/p-value for the model itself.**"
   ]
  },
  {
   "cell_type": "code",
   "execution_count": null,
   "metadata": {},
   "outputs": [],
   "source": []
  }
 ],
 "metadata": {
  "kernelspec": {
   "display_name": "Python 3",
   "language": "python",
   "name": "python3"
  },
  "language_info": {
   "codemirror_mode": {
    "name": "ipython",
    "version": 2
   },
   "file_extension": ".py",
   "mimetype": "text/x-python",
   "name": "python",
   "nbconvert_exporter": "python",
   "pygments_lexer": "ipython2",
   "version": "2.7.10"
  },
  "toc": {
   "base_numbering": 1,
   "nav_menu": {},
   "number_sections": true,
   "sideBar": true,
   "skip_h1_title": false,
   "title_cell": "Table of Contents",
   "title_sidebar": "Contents",
   "toc_cell": false,
   "toc_position": {},
   "toc_section_display": true,
   "toc_window_display": true
  }
 },
 "nbformat": 4,
 "nbformat_minor": 2
}
