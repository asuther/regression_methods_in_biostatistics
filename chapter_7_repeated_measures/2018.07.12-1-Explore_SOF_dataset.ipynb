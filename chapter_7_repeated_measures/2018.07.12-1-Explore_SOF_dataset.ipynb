{
 "cells": [
  {
   "cell_type": "markdown",
   "metadata": {},
   "source": [
    "# Explore_SOF_dataset"
   ]
  },
  {
   "cell_type": "markdown",
   "metadata": {},
   "source": [
    "**Background: **In Chapter 7 of the Regression Methods in Biostats book, they introduce a longitudinal dataset called the Study of Osteoporotic Fractures. This study had over 7k units in the sample and tracked health habits, with a response of osteoporosis and breast cancer to name a few. In order to see how I would analyze the dataset before being biased by the book's tutorial, I want to explore the dataset a bit. \n",
    "\n",
    "**Purpose: **To explore the SOF dataset and try to fit the responses using methods I currently know\n",
    "\n",
    "**Methods: **First, I will load the dataset. Then, I will format it by adding/changing column labels. Then, I will explore the variables by doing a describe on the dataset, plot 1D histograms, and plot 2D histograms using a pairplot function. After that, I will perform some fits of the response variables using a basic linear model and then a random forest model. Finally, I will plot my $R^2$ and RMSE using these methods. \n",
    "\n",
    "**Conclusions: **\n",
    "* Fitting a multi-level model with patient id as a level has an r2 of ~0.92"
   ]
  },
  {
   "cell_type": "markdown",
   "metadata": {},
   "source": [
    "# Inits"
   ]
  },
  {
   "cell_type": "markdown",
   "metadata": {},
   "source": [
    "## Imports"
   ]
  },
  {
   "cell_type": "code",
   "execution_count": 4,
   "metadata": {},
   "outputs": [],
   "source": [
    "%load_ext autoreload\n",
    "%autoreload 2\n",
    "\n",
    "import numpy as np\n",
    "import pandas as pd\n",
    "\n",
    "%matplotlib inline\n",
    "import matplotlib.pyplot as plt\n",
    "import seaborn as sns\n",
    "sns.set_context(context='notebook', font_scale=1.5)\n"
   ]
  },
  {
   "cell_type": "markdown",
   "metadata": {},
   "source": [
    "## Definitions"
   ]
  },
  {
   "cell_type": "code",
   "execution_count": null,
   "metadata": {},
   "outputs": [],
   "source": []
  },
  {
   "cell_type": "markdown",
   "metadata": {},
   "source": [
    "## Funcs"
   ]
  },
  {
   "cell_type": "code",
   "execution_count": null,
   "metadata": {},
   "outputs": [],
   "source": []
  },
  {
   "cell_type": "markdown",
   "metadata": {},
   "source": [
    "# Load the dataset"
   ]
  },
  {
   "cell_type": "code",
   "execution_count": 5,
   "metadata": {},
   "outputs": [],
   "source": [
    "raw_df = pd.read_csv('./data/sof.csv')"
   ]
  },
  {
   "cell_type": "markdown",
   "metadata": {},
   "source": [
    "# Format by adding/changing column labels"
   ]
  },
  {
   "cell_type": "markdown",
   "metadata": {},
   "source": [
    "The column descriptions are as follows:\n",
    "* id: Subject ID\n",
    "* visit: Visit number\n",
    "* totbmd: Bone mineral density\n",
    "* nbmd: ???\n",
    "* vdate: Visit date\n",
    "* v2date: First visit date\n",
    "* bmi: body mass index\n",
    "* n_iadl: Numer of impaired instrumental activities of daily living\n",
    "* age: Current age of subject\n",
    "* meno_age: Age at menopause\n",
    "* del_totbmd: ???\n",
    "* base_totbmd: Bone mineral density at baseline"
   ]
  },
  {
   "cell_type": "markdown",
   "metadata": {},
   "source": [
    "First, I will make `id` string type"
   ]
  },
  {
   "cell_type": "code",
   "execution_count": 6,
   "metadata": {},
   "outputs": [],
   "source": [
    "raw_df['id'] = raw_df['id'].astype(str)"
   ]
  },
  {
   "cell_type": "code",
   "execution_count": 7,
   "metadata": {},
   "outputs": [
    {
     "data": {
      "text/html": [
       "<div>\n",
       "<style scoped>\n",
       "    .dataframe tbody tr th:only-of-type {\n",
       "        vertical-align: middle;\n",
       "    }\n",
       "\n",
       "    .dataframe tbody tr th {\n",
       "        vertical-align: top;\n",
       "    }\n",
       "\n",
       "    .dataframe thead th {\n",
       "        text-align: right;\n",
       "    }\n",
       "</style>\n",
       "<table border=\"1\" class=\"dataframe\">\n",
       "  <thead>\n",
       "    <tr style=\"text-align: right;\">\n",
       "      <th></th>\n",
       "      <th>id</th>\n",
       "      <th>visit</th>\n",
       "      <th>totbmd</th>\n",
       "      <th>nbmd</th>\n",
       "      <th>vdate</th>\n",
       "      <th>v2date</th>\n",
       "      <th>bmi</th>\n",
       "      <th>n_iadl</th>\n",
       "      <th>age</th>\n",
       "      <th>meno_age</th>\n",
       "      <th>del_totbmd</th>\n",
       "      <th>base_totbmd</th>\n",
       "    </tr>\n",
       "  </thead>\n",
       "  <tbody>\n",
       "    <tr>\n",
       "      <th>0</th>\n",
       "      <td>10001</td>\n",
       "      <td>2</td>\n",
       "      <td>1.0857</td>\n",
       "      <td>0.9820</td>\n",
       "      <td>03/20/89</td>\n",
       "      <td>03/20/89</td>\n",
       "      <td>30.0</td>\n",
       "      <td>1.0</td>\n",
       "      <td>67.0</td>\n",
       "      <td>50.0</td>\n",
       "      <td>NaN</td>\n",
       "      <td>1.0857</td>\n",
       "    </tr>\n",
       "    <tr>\n",
       "      <th>1</th>\n",
       "      <td>10001</td>\n",
       "      <td>4</td>\n",
       "      <td>1.1010</td>\n",
       "      <td>0.9860</td>\n",
       "      <td>09/10/92</td>\n",
       "      <td>03/20/89</td>\n",
       "      <td>28.0</td>\n",
       "      <td>1.0</td>\n",
       "      <td>67.0</td>\n",
       "      <td>50.0</td>\n",
       "      <td>NaN</td>\n",
       "      <td>1.0857</td>\n",
       "    </tr>\n",
       "    <tr>\n",
       "      <th>2</th>\n",
       "      <td>10001</td>\n",
       "      <td>5</td>\n",
       "      <td>1.1060</td>\n",
       "      <td>0.9770</td>\n",
       "      <td>05/02/96</td>\n",
       "      <td>03/20/89</td>\n",
       "      <td>30.0</td>\n",
       "      <td>1.0</td>\n",
       "      <td>67.0</td>\n",
       "      <td>50.0</td>\n",
       "      <td>NaN</td>\n",
       "      <td>1.0857</td>\n",
       "    </tr>\n",
       "    <tr>\n",
       "      <th>3</th>\n",
       "      <td>10001</td>\n",
       "      <td>6</td>\n",
       "      <td>1.0419</td>\n",
       "      <td>0.9055</td>\n",
       "      <td>12/11/98</td>\n",
       "      <td>03/20/89</td>\n",
       "      <td>28.0</td>\n",
       "      <td>2.0</td>\n",
       "      <td>67.0</td>\n",
       "      <td>50.0</td>\n",
       "      <td>NaN</td>\n",
       "      <td>1.0857</td>\n",
       "    </tr>\n",
       "    <tr>\n",
       "      <th>4</th>\n",
       "      <td>10001</td>\n",
       "      <td>8</td>\n",
       "      <td>NaN</td>\n",
       "      <td>NaN</td>\n",
       "      <td>NaN</td>\n",
       "      <td>NaN</td>\n",
       "      <td>NaN</td>\n",
       "      <td>NaN</td>\n",
       "      <td>67.0</td>\n",
       "      <td>50.0</td>\n",
       "      <td>NaN</td>\n",
       "      <td>1.0857</td>\n",
       "    </tr>\n",
       "  </tbody>\n",
       "</table>\n",
       "</div>"
      ],
      "text/plain": [
       "      id  visit  totbmd    nbmd     vdate    v2date   bmi  n_iadl   age  \\\n",
       "0  10001      2  1.0857  0.9820  03/20/89  03/20/89  30.0     1.0  67.0   \n",
       "1  10001      4  1.1010  0.9860  09/10/92  03/20/89  28.0     1.0  67.0   \n",
       "2  10001      5  1.1060  0.9770  05/02/96  03/20/89  30.0     1.0  67.0   \n",
       "3  10001      6  1.0419  0.9055  12/11/98  03/20/89  28.0     2.0  67.0   \n",
       "4  10001      8     NaN     NaN       NaN       NaN   NaN     NaN  67.0   \n",
       "\n",
       "   meno_age  del_totbmd  base_totbmd  \n",
       "0      50.0         NaN       1.0857  \n",
       "1      50.0         NaN       1.0857  \n",
       "2      50.0         NaN       1.0857  \n",
       "3      50.0         NaN       1.0857  \n",
       "4      50.0         NaN       1.0857  "
      ]
     },
     "execution_count": 7,
     "metadata": {},
     "output_type": "execute_result"
    }
   ],
   "source": [
    "raw_df.head()"
   ]
  },
  {
   "cell_type": "markdown",
   "metadata": {},
   "source": [
    "# Explore variables by doing a describe on the dataset"
   ]
  },
  {
   "cell_type": "code",
   "execution_count": 8,
   "metadata": {},
   "outputs": [
    {
     "data": {
      "text/html": [
       "<div>\n",
       "<style scoped>\n",
       "    .dataframe tbody tr th:only-of-type {\n",
       "        vertical-align: middle;\n",
       "    }\n",
       "\n",
       "    .dataframe tbody tr th {\n",
       "        vertical-align: top;\n",
       "    }\n",
       "\n",
       "    .dataframe thead th {\n",
       "        text-align: right;\n",
       "    }\n",
       "</style>\n",
       "<table border=\"1\" class=\"dataframe\">\n",
       "  <thead>\n",
       "    <tr style=\"text-align: right;\">\n",
       "      <th></th>\n",
       "      <th>visit</th>\n",
       "      <th>totbmd</th>\n",
       "      <th>nbmd</th>\n",
       "      <th>bmi</th>\n",
       "      <th>n_iadl</th>\n",
       "      <th>age</th>\n",
       "      <th>meno_age</th>\n",
       "      <th>del_totbmd</th>\n",
       "      <th>base_totbmd</th>\n",
       "    </tr>\n",
       "  </thead>\n",
       "  <tbody>\n",
       "    <tr>\n",
       "      <th>count</th>\n",
       "      <td>42950.000000</td>\n",
       "      <td>27402.000000</td>\n",
       "      <td>27382.000000</td>\n",
       "      <td>26829.000000</td>\n",
       "      <td>27119.000000</td>\n",
       "      <td>42775.000000</td>\n",
       "      <td>35020.000000</td>\n",
       "      <td>13060.000000</td>\n",
       "      <td>41065.000000</td>\n",
       "    </tr>\n",
       "    <tr>\n",
       "      <th>mean</th>\n",
       "      <td>5.000000</td>\n",
       "      <td>0.735176</td>\n",
       "      <td>0.631839</td>\n",
       "      <td>26.417943</td>\n",
       "      <td>0.789299</td>\n",
       "      <td>73.392636</td>\n",
       "      <td>48.016705</td>\n",
       "      <td>-0.045512</td>\n",
       "      <td>0.746975</td>\n",
       "    </tr>\n",
       "    <tr>\n",
       "      <th>std</th>\n",
       "      <td>2.000023</td>\n",
       "      <td>0.133630</td>\n",
       "      <td>0.116722</td>\n",
       "      <td>4.697549</td>\n",
       "      <td>1.241180</td>\n",
       "      <td>5.089214</td>\n",
       "      <td>5.723567</td>\n",
       "      <td>0.068761</td>\n",
       "      <td>0.128768</td>\n",
       "    </tr>\n",
       "    <tr>\n",
       "      <th>min</th>\n",
       "      <td>2.000000</td>\n",
       "      <td>0.181000</td>\n",
       "      <td>0.172000</td>\n",
       "      <td>13.000000</td>\n",
       "      <td>0.000000</td>\n",
       "      <td>67.000000</td>\n",
       "      <td>14.000000</td>\n",
       "      <td>-0.346200</td>\n",
       "      <td>0.300000</td>\n",
       "    </tr>\n",
       "    <tr>\n",
       "      <th>25%</th>\n",
       "      <td>4.000000</td>\n",
       "      <td>0.645900</td>\n",
       "      <td>0.552000</td>\n",
       "      <td>23.000000</td>\n",
       "      <td>0.000000</td>\n",
       "      <td>69.000000</td>\n",
       "      <td>45.000000</td>\n",
       "      <td>-0.085225</td>\n",
       "      <td>0.659200</td>\n",
       "    </tr>\n",
       "    <tr>\n",
       "      <th>50%</th>\n",
       "      <td>5.000000</td>\n",
       "      <td>0.728600</td>\n",
       "      <td>0.621000</td>\n",
       "      <td>26.000000</td>\n",
       "      <td>0.000000</td>\n",
       "      <td>72.000000</td>\n",
       "      <td>49.000000</td>\n",
       "      <td>-0.042300</td>\n",
       "      <td>0.740700</td>\n",
       "    </tr>\n",
       "    <tr>\n",
       "      <th>75%</th>\n",
       "      <td>6.000000</td>\n",
       "      <td>0.817000</td>\n",
       "      <td>0.698275</td>\n",
       "      <td>29.000000</td>\n",
       "      <td>1.000000</td>\n",
       "      <td>76.000000</td>\n",
       "      <td>52.000000</td>\n",
       "      <td>-0.002600</td>\n",
       "      <td>0.826800</td>\n",
       "    </tr>\n",
       "    <tr>\n",
       "      <th>max</th>\n",
       "      <td>8.000000</td>\n",
       "      <td>1.655300</td>\n",
       "      <td>1.635000</td>\n",
       "      <td>54.000000</td>\n",
       "      <td>5.000000</td>\n",
       "      <td>99.000000</td>\n",
       "      <td>68.000000</td>\n",
       "      <td>0.754900</td>\n",
       "      <td>1.403000</td>\n",
       "    </tr>\n",
       "  </tbody>\n",
       "</table>\n",
       "</div>"
      ],
      "text/plain": [
       "              visit        totbmd          nbmd           bmi        n_iadl  \\\n",
       "count  42950.000000  27402.000000  27382.000000  26829.000000  27119.000000   \n",
       "mean       5.000000      0.735176      0.631839     26.417943      0.789299   \n",
       "std        2.000023      0.133630      0.116722      4.697549      1.241180   \n",
       "min        2.000000      0.181000      0.172000     13.000000      0.000000   \n",
       "25%        4.000000      0.645900      0.552000     23.000000      0.000000   \n",
       "50%        5.000000      0.728600      0.621000     26.000000      0.000000   \n",
       "75%        6.000000      0.817000      0.698275     29.000000      1.000000   \n",
       "max        8.000000      1.655300      1.635000     54.000000      5.000000   \n",
       "\n",
       "                age      meno_age    del_totbmd   base_totbmd  \n",
       "count  42775.000000  35020.000000  13060.000000  41065.000000  \n",
       "mean      73.392636     48.016705     -0.045512      0.746975  \n",
       "std        5.089214      5.723567      0.068761      0.128768  \n",
       "min       67.000000     14.000000     -0.346200      0.300000  \n",
       "25%       69.000000     45.000000     -0.085225      0.659200  \n",
       "50%       72.000000     49.000000     -0.042300      0.740700  \n",
       "75%       76.000000     52.000000     -0.002600      0.826800  \n",
       "max       99.000000     68.000000      0.754900      1.403000  "
      ]
     },
     "execution_count": 8,
     "metadata": {},
     "output_type": "execute_result"
    }
   ],
   "source": [
    "raw_df.describe()"
   ]
  },
  {
   "cell_type": "markdown",
   "metadata": {},
   "source": [
    "This shows me that `visit`, `age`, and `base_totbmd` are the most filled in variables. `totbmd` in comparison, only has a 50% coverage. Same with `bmi` and `n_iadl` (number of impaired instrumental daily activities). \n",
    "\n",
    "Furthermore, only ~83% of subjects have a `meno_age` value. This may be because they had not gone through menopause. "
   ]
  },
  {
   "cell_type": "markdown",
   "metadata": {},
   "source": [
    "# Plot 1D histograms"
   ]
  },
  {
   "cell_type": "code",
   "execution_count": 9,
   "metadata": {},
   "outputs": [
    {
     "data": {
      "text/html": [
       "<div>\n",
       "<style scoped>\n",
       "    .dataframe tbody tr th:only-of-type {\n",
       "        vertical-align: middle;\n",
       "    }\n",
       "\n",
       "    .dataframe tbody tr th {\n",
       "        vertical-align: top;\n",
       "    }\n",
       "\n",
       "    .dataframe thead th {\n",
       "        text-align: right;\n",
       "    }\n",
       "</style>\n",
       "<table border=\"1\" class=\"dataframe\">\n",
       "  <thead>\n",
       "    <tr style=\"text-align: right;\">\n",
       "      <th></th>\n",
       "      <th>id</th>\n",
       "      <th>visit</th>\n",
       "      <th>totbmd</th>\n",
       "      <th>nbmd</th>\n",
       "      <th>vdate</th>\n",
       "      <th>v2date</th>\n",
       "      <th>bmi</th>\n",
       "      <th>n_iadl</th>\n",
       "      <th>age</th>\n",
       "      <th>meno_age</th>\n",
       "      <th>del_totbmd</th>\n",
       "      <th>base_totbmd</th>\n",
       "    </tr>\n",
       "  </thead>\n",
       "  <tbody>\n",
       "    <tr>\n",
       "      <th>0</th>\n",
       "      <td>10001</td>\n",
       "      <td>2</td>\n",
       "      <td>1.0857</td>\n",
       "      <td>0.982</td>\n",
       "      <td>03/20/89</td>\n",
       "      <td>03/20/89</td>\n",
       "      <td>30.0</td>\n",
       "      <td>1.0</td>\n",
       "      <td>67.0</td>\n",
       "      <td>50.0</td>\n",
       "      <td>NaN</td>\n",
       "      <td>1.0857</td>\n",
       "    </tr>\n",
       "    <tr>\n",
       "      <th>1</th>\n",
       "      <td>10001</td>\n",
       "      <td>4</td>\n",
       "      <td>1.1010</td>\n",
       "      <td>0.986</td>\n",
       "      <td>09/10/92</td>\n",
       "      <td>03/20/89</td>\n",
       "      <td>28.0</td>\n",
       "      <td>1.0</td>\n",
       "      <td>67.0</td>\n",
       "      <td>50.0</td>\n",
       "      <td>NaN</td>\n",
       "      <td>1.0857</td>\n",
       "    </tr>\n",
       "  </tbody>\n",
       "</table>\n",
       "</div>"
      ],
      "text/plain": [
       "      id  visit  totbmd   nbmd     vdate    v2date   bmi  n_iadl   age  \\\n",
       "0  10001      2  1.0857  0.982  03/20/89  03/20/89  30.0     1.0  67.0   \n",
       "1  10001      4  1.1010  0.986  09/10/92  03/20/89  28.0     1.0  67.0   \n",
       "\n",
       "   meno_age  del_totbmd  base_totbmd  \n",
       "0      50.0         NaN       1.0857  \n",
       "1      50.0         NaN       1.0857  "
      ]
     },
     "execution_count": 9,
     "metadata": {},
     "output_type": "execute_result"
    }
   ],
   "source": [
    "raw_df.head(2)"
   ]
  },
  {
   "cell_type": "code",
   "execution_count": 114,
   "metadata": {
    "scrolled": false
   },
   "outputs": [
    {
     "data": {
      "image/png": "[encoded data removed]",
      "text/plain": [
       "<Figure size 576x288 with 1 Axes>"
      ]
     },
     "metadata": {},
     "output_type": "display_data"
    },
    {
     "data": {
      "image/png": "[encoded data removed]",
      "text/plain": [
       "<Figure size 576x288 with 1 Axes>"
      ]
     },
     "metadata": {},
     "output_type": "display_data"
    },
    {
     "data": {
      "image/png": "[encoded data removed]",
      "text/plain": [
       "<Figure size 576x288 with 1 Axes>"
      ]
     },
     "metadata": {},
     "output_type": "display_data"
    },
    {
     "data": {
      "image/png": "[encoded data removed]",
      "text/plain": [
       "<Figure size 576x288 with 1 Axes>"
      ]
     },
     "metadata": {},
     "output_type": "display_data"
    },
    {
     "data": {
      "image/png": "[encoded data removed]",
      "text/plain": [
       "<Figure size 576x288 with 1 Axes>"
      ]
     },
     "metadata": {},
     "output_type": "display_data"
    },
    {
     "data": {
      "image/png": "[encoded data removed]",
      "text/plain": [
       "<Figure size 576x288 with 1 Axes>"
      ]
     },
     "metadata": {},
     "output_type": "display_data"
    }
   ],
   "source": [
    "vars_to_plot = ['visit','totbmd','bmi','n_iadl','age','meno_age']\n",
    "\n",
    "for curr_var in vars_to_plot:\n",
    "    plt.figure(figsize=(8,4))\n",
    "    plt.hist(raw_df[curr_var].dropna())\n",
    "    \n",
    "    ax = plt.gca()\n",
    "    ax.set_title(curr_var, y=1.05)"
   ]
  },
  {
   "cell_type": "markdown",
   "metadata": {},
   "source": [
    "# Plot 2D histograms using a pairplot function"
   ]
  },
  {
   "cell_type": "code",
   "execution_count": null,
   "metadata": {},
   "outputs": [],
   "source": [
    "vars_to_plot = ['totbmd','bmi','n_iadl','age','meno_age']\n",
    "sns.pairplot(data = raw_df.dropna(subset = vars_to_plot), \n",
    "             vars=vars_to_plot)"
   ]
  },
  {
   "cell_type": "markdown",
   "metadata": {},
   "source": [
    "* `totbmd` has a slightly negative relationship with `age`\n",
    "* `totbmd` has a positive relationship with `BMI`\n",
    "* `totbmd` doesn't have a strong relationship with `meno_age` but is quite heteroskedastic with `meno_age`"
   ]
  },
  {
   "cell_type": "markdown",
   "metadata": {},
   "source": [
    "# Perform some fits of the response variables "
   ]
  },
  {
   "cell_type": "markdown",
   "metadata": {},
   "source": [
    "## Format data into design matrix and response vector"
   ]
  },
  {
   "cell_type": "markdown",
   "metadata": {},
   "source": [
    "I will need to drop all rows that have NaN before creating X and y matrices"
   ]
  },
  {
   "cell_type": "code",
   "execution_count": 23,
   "metadata": {},
   "outputs": [],
   "source": [
    "df = raw_df.dropna(subset = ['bmi','n_iadl','age','meno_age'])"
   ]
  },
  {
   "cell_type": "code",
   "execution_count": 38,
   "metadata": {},
   "outputs": [],
   "source": [
    "X_no_dummies = df[['id','bmi','n_iadl','age','meno_age']]\n",
    "y = df[['totbmd']]"
   ]
  },
  {
   "cell_type": "markdown",
   "metadata": {},
   "source": [
    "For the X variable, I need to create dummies for id"
   ]
  },
  {
   "cell_type": "code",
   "execution_count": 42,
   "metadata": {},
   "outputs": [],
   "source": [
    "X = pd.concat([X_no_dummies.drop(['id'], axis=1), \n",
    "              pd.get_dummies(X_no_dummies['id'])],\n",
    "              axis=1)"
   ]
  },
  {
   "cell_type": "code",
   "execution_count": 45,
   "metadata": {},
   "outputs": [
    {
     "data": {
      "text/html": [
       "<div>\n",
       "<style scoped>\n",
       "    .dataframe tbody tr th:only-of-type {\n",
       "        vertical-align: middle;\n",
       "    }\n",
       "\n",
       "    .dataframe tbody tr th {\n",
       "        vertical-align: top;\n",
       "    }\n",
       "\n",
       "    .dataframe thead th {\n",
       "        text-align: right;\n",
       "    }\n",
       "</style>\n",
       "<table border=\"1\" class=\"dataframe\">\n",
       "  <thead>\n",
       "    <tr style=\"text-align: right;\">\n",
       "      <th></th>\n",
       "      <th>bmi</th>\n",
       "      <th>n_iadl</th>\n",
       "      <th>age</th>\n",
       "      <th>meno_age</th>\n",
       "      <th>10001</th>\n",
       "      <th>10002</th>\n",
       "      <th>10003</th>\n",
       "      <th>10004</th>\n",
       "      <th>10005</th>\n",
       "      <th>10006</th>\n",
       "      <th>...</th>\n",
       "      <th>42474</th>\n",
       "      <th>42475</th>\n",
       "      <th>42476</th>\n",
       "      <th>42478</th>\n",
       "      <th>42479</th>\n",
       "      <th>42481</th>\n",
       "      <th>42482</th>\n",
       "      <th>42483</th>\n",
       "      <th>42484</th>\n",
       "      <th>42486</th>\n",
       "    </tr>\n",
       "  </thead>\n",
       "  <tbody>\n",
       "    <tr>\n",
       "      <th>0</th>\n",
       "      <td>30.0</td>\n",
       "      <td>1.0</td>\n",
       "      <td>67.0</td>\n",
       "      <td>50.0</td>\n",
       "      <td>1</td>\n",
       "      <td>0</td>\n",
       "      <td>0</td>\n",
       "      <td>0</td>\n",
       "      <td>0</td>\n",
       "      <td>0</td>\n",
       "      <td>...</td>\n",
       "      <td>0</td>\n",
       "      <td>0</td>\n",
       "      <td>0</td>\n",
       "      <td>0</td>\n",
       "      <td>0</td>\n",
       "      <td>0</td>\n",
       "      <td>0</td>\n",
       "      <td>0</td>\n",
       "      <td>0</td>\n",
       "      <td>0</td>\n",
       "    </tr>\n",
       "    <tr>\n",
       "      <th>1</th>\n",
       "      <td>28.0</td>\n",
       "      <td>1.0</td>\n",
       "      <td>67.0</td>\n",
       "      <td>50.0</td>\n",
       "      <td>1</td>\n",
       "      <td>0</td>\n",
       "      <td>0</td>\n",
       "      <td>0</td>\n",
       "      <td>0</td>\n",
       "      <td>0</td>\n",
       "      <td>...</td>\n",
       "      <td>0</td>\n",
       "      <td>0</td>\n",
       "      <td>0</td>\n",
       "      <td>0</td>\n",
       "      <td>0</td>\n",
       "      <td>0</td>\n",
       "      <td>0</td>\n",
       "      <td>0</td>\n",
       "      <td>0</td>\n",
       "      <td>0</td>\n",
       "    </tr>\n",
       "    <tr>\n",
       "      <th>2</th>\n",
       "      <td>30.0</td>\n",
       "      <td>1.0</td>\n",
       "      <td>67.0</td>\n",
       "      <td>50.0</td>\n",
       "      <td>1</td>\n",
       "      <td>0</td>\n",
       "      <td>0</td>\n",
       "      <td>0</td>\n",
       "      <td>0</td>\n",
       "      <td>0</td>\n",
       "      <td>...</td>\n",
       "      <td>0</td>\n",
       "      <td>0</td>\n",
       "      <td>0</td>\n",
       "      <td>0</td>\n",
       "      <td>0</td>\n",
       "      <td>0</td>\n",
       "      <td>0</td>\n",
       "      <td>0</td>\n",
       "      <td>0</td>\n",
       "      <td>0</td>\n",
       "    </tr>\n",
       "    <tr>\n",
       "      <th>3</th>\n",
       "      <td>28.0</td>\n",
       "      <td>2.0</td>\n",
       "      <td>67.0</td>\n",
       "      <td>50.0</td>\n",
       "      <td>1</td>\n",
       "      <td>0</td>\n",
       "      <td>0</td>\n",
       "      <td>0</td>\n",
       "      <td>0</td>\n",
       "      <td>0</td>\n",
       "      <td>...</td>\n",
       "      <td>0</td>\n",
       "      <td>0</td>\n",
       "      <td>0</td>\n",
       "      <td>0</td>\n",
       "      <td>0</td>\n",
       "      <td>0</td>\n",
       "      <td>0</td>\n",
       "      <td>0</td>\n",
       "      <td>0</td>\n",
       "      <td>0</td>\n",
       "    </tr>\n",
       "    <tr>\n",
       "      <th>5</th>\n",
       "      <td>24.0</td>\n",
       "      <td>0.0</td>\n",
       "      <td>69.0</td>\n",
       "      <td>53.0</td>\n",
       "      <td>0</td>\n",
       "      <td>1</td>\n",
       "      <td>0</td>\n",
       "      <td>0</td>\n",
       "      <td>0</td>\n",
       "      <td>0</td>\n",
       "      <td>...</td>\n",
       "      <td>0</td>\n",
       "      <td>0</td>\n",
       "      <td>0</td>\n",
       "      <td>0</td>\n",
       "      <td>0</td>\n",
       "      <td>0</td>\n",
       "      <td>0</td>\n",
       "      <td>0</td>\n",
       "      <td>0</td>\n",
       "      <td>0</td>\n",
       "    </tr>\n",
       "  </tbody>\n",
       "</table>\n",
       "<p>5 rows × 6881 columns</p>\n",
       "</div>"
      ],
      "text/plain": [
       "    bmi  n_iadl   age  meno_age  10001  10002  10003  10004  10005  10006  \\\n",
       "0  30.0     1.0  67.0      50.0      1      0      0      0      0      0   \n",
       "1  28.0     1.0  67.0      50.0      1      0      0      0      0      0   \n",
       "2  30.0     1.0  67.0      50.0      1      0      0      0      0      0   \n",
       "3  28.0     2.0  67.0      50.0      1      0      0      0      0      0   \n",
       "5  24.0     0.0  69.0      53.0      0      1      0      0      0      0   \n",
       "\n",
       "   ...    42474  42475  42476  42478  42479  42481  42482  42483  42484  42486  \n",
       "0  ...        0      0      0      0      0      0      0      0      0      0  \n",
       "1  ...        0      0      0      0      0      0      0      0      0      0  \n",
       "2  ...        0      0      0      0      0      0      0      0      0      0  \n",
       "3  ...        0      0      0      0      0      0      0      0      0      0  \n",
       "5  ...        0      0      0      0      0      0      0      0      0      0  \n",
       "\n",
       "[5 rows x 6881 columns]"
      ]
     },
     "execution_count": 45,
     "metadata": {},
     "output_type": "execute_result"
    }
   ],
   "source": [
    "X.head(5)"
   ]
  },
  {
   "cell_type": "markdown",
   "metadata": {},
   "source": [
    "## Basic linear model"
   ]
  },
  {
   "cell_type": "code",
   "execution_count": 46,
   "metadata": {},
   "outputs": [],
   "source": [
    "import sklearn.linear_model as skl_lm\n",
    "import sklearn.model_selection as skl_ms\n",
    "ridge_regr = skl_lm.Ridge()"
   ]
  },
  {
   "cell_type": "code",
   "execution_count": 58,
   "metadata": {},
   "outputs": [],
   "source": [
    "ts_cv_split = skl_ms.TimeSeriesSplit(n_splits=4)"
   ]
  },
  {
   "cell_type": "code",
   "execution_count": 68,
   "metadata": {},
   "outputs": [],
   "source": [
    "full_pred_results = pd.DataFrame()\n",
    "for curr_visit in df['visit'].unique()[1:]:\n",
    "    \n",
    "    curr_train_indexes = df.loc[\n",
    "        df['visit'] < curr_visit\n",
    "    ].index\n",
    "    \n",
    "    curr_test_indexes = df.loc[\n",
    "        df['visit'] == curr_visit\n",
    "    ].index\n",
    "    \n",
    "    X_train = X.loc[curr_train_indexes]\n",
    "    y_train = y.loc[curr_train_indexes]\n",
    "    \n",
    "    X_test = X.loc[curr_test_indexes]\n",
    "    curr_results = df.loc[curr_test_indexes]\n",
    "    \n",
    "    ridge_regr.fit(X_train, y_train)\n",
    "    \n",
    "    curr_results['y_pred_ridge'] = ridge_regr.predict(X_test)\n",
    "    \n",
    "    full_pred_results = pd.concat([full_pred_results,\n",
    "                                   curr_results])"
   ]
  },
  {
   "cell_type": "code",
   "execution_count": 67,
   "metadata": {
    "scrolled": true
   },
   "outputs": [
    {
     "data": {
      "text/html": [
       "<div>\n",
       "<style scoped>\n",
       "    .dataframe tbody tr th:only-of-type {\n",
       "        vertical-align: middle;\n",
       "    }\n",
       "\n",
       "    .dataframe tbody tr th {\n",
       "        vertical-align: top;\n",
       "    }\n",
       "\n",
       "    .dataframe thead th {\n",
       "        text-align: right;\n",
       "    }\n",
       "</style>\n",
       "<table border=\"1\" class=\"dataframe\">\n",
       "  <thead>\n",
       "    <tr style=\"text-align: right;\">\n",
       "      <th></th>\n",
       "      <th>id</th>\n",
       "      <th>visit</th>\n",
       "      <th>totbmd</th>\n",
       "      <th>nbmd</th>\n",
       "      <th>vdate</th>\n",
       "      <th>v2date</th>\n",
       "      <th>bmi</th>\n",
       "      <th>n_iadl</th>\n",
       "      <th>age</th>\n",
       "      <th>meno_age</th>\n",
       "      <th>del_totbmd</th>\n",
       "      <th>base_totbmd</th>\n",
       "      <th>y_pred_ridge</th>\n",
       "    </tr>\n",
       "  </thead>\n",
       "  <tbody>\n",
       "    <tr>\n",
       "      <th>1</th>\n",
       "      <td>10001</td>\n",
       "      <td>4</td>\n",
       "      <td>1.101</td>\n",
       "      <td>0.986</td>\n",
       "      <td>09/10/92</td>\n",
       "      <td>03/20/89</td>\n",
       "      <td>28.0</td>\n",
       "      <td>1.0</td>\n",
       "      <td>67.0</td>\n",
       "      <td>50.0</td>\n",
       "      <td>NaN</td>\n",
       "      <td>1.0857</td>\n",
       "      <td>0.929756</td>\n",
       "    </tr>\n",
       "    <tr>\n",
       "      <th>6</th>\n",
       "      <td>10002</td>\n",
       "      <td>4</td>\n",
       "      <td>0.486</td>\n",
       "      <td>0.320</td>\n",
       "      <td>09/17/93</td>\n",
       "      <td>02/17/89</td>\n",
       "      <td>24.0</td>\n",
       "      <td>0.0</td>\n",
       "      <td>69.0</td>\n",
       "      <td>53.0</td>\n",
       "      <td>NaN</td>\n",
       "      <td>0.5026</td>\n",
       "      <td>0.627669</td>\n",
       "    </tr>\n",
       "    <tr>\n",
       "      <th>16</th>\n",
       "      <td>10004</td>\n",
       "      <td>4</td>\n",
       "      <td>0.652</td>\n",
       "      <td>0.612</td>\n",
       "      <td>09/04/92</td>\n",
       "      <td>03/03/89</td>\n",
       "      <td>29.0</td>\n",
       "      <td>2.0</td>\n",
       "      <td>85.0</td>\n",
       "      <td>53.0</td>\n",
       "      <td>NaN</td>\n",
       "      <td>0.6980</td>\n",
       "      <td>0.691266</td>\n",
       "    </tr>\n",
       "    <tr>\n",
       "      <th>21</th>\n",
       "      <td>10005</td>\n",
       "      <td>4</td>\n",
       "      <td>0.981</td>\n",
       "      <td>0.696</td>\n",
       "      <td>09/04/92</td>\n",
       "      <td>03/03/89</td>\n",
       "      <td>36.0</td>\n",
       "      <td>2.0</td>\n",
       "      <td>77.0</td>\n",
       "      <td>53.0</td>\n",
       "      <td>NaN</td>\n",
       "      <td>0.9473</td>\n",
       "      <td>0.892278</td>\n",
       "    </tr>\n",
       "    <tr>\n",
       "      <th>26</th>\n",
       "      <td>10006</td>\n",
       "      <td>4</td>\n",
       "      <td>1.053</td>\n",
       "      <td>0.832</td>\n",
       "      <td>11/06/92</td>\n",
       "      <td>04/25/89</td>\n",
       "      <td>29.0</td>\n",
       "      <td>0.0</td>\n",
       "      <td>75.0</td>\n",
       "      <td>48.0</td>\n",
       "      <td>-0.0835</td>\n",
       "      <td>1.0303</td>\n",
       "      <td>0.898110</td>\n",
       "    </tr>\n",
       "  </tbody>\n",
       "</table>\n",
       "</div>"
      ],
      "text/plain": [
       "       id  visit  totbmd   nbmd     vdate    v2date   bmi  n_iadl   age  \\\n",
       "1   10001      4   1.101  0.986  09/10/92  03/20/89  28.0     1.0  67.0   \n",
       "6   10002      4   0.486  0.320  09/17/93  02/17/89  24.0     0.0  69.0   \n",
       "16  10004      4   0.652  0.612  09/04/92  03/03/89  29.0     2.0  85.0   \n",
       "21  10005      4   0.981  0.696  09/04/92  03/03/89  36.0     2.0  77.0   \n",
       "26  10006      4   1.053  0.832  11/06/92  04/25/89  29.0     0.0  75.0   \n",
       "\n",
       "    meno_age  del_totbmd  base_totbmd  y_pred_ridge  \n",
       "1       50.0         NaN       1.0857      0.929756  \n",
       "6       53.0         NaN       0.5026      0.627669  \n",
       "16      53.0         NaN       0.6980      0.691266  \n",
       "21      53.0         NaN       0.9473      0.892278  \n",
       "26      48.0     -0.0835       1.0303      0.898110  "
      ]
     },
     "execution_count": 67,
     "metadata": {},
     "output_type": "execute_result"
    }
   ],
   "source": [
    "full_pred_results.head()"
   ]
  },
  {
   "cell_type": "code",
   "execution_count": 71,
   "metadata": {},
   "outputs": [
    {
     "data": {
      "text/plain": [
       "<seaborn.axisgrid.JointGrid at 0x11a98c7d0>"
      ]
     },
     "execution_count": 71,
     "metadata": {},
     "output_type": "execute_result"
    },
    {
     "data": {
      "image/png": "[encoded data removed]",
      "text/plain": [
       "<Figure size 432x432 with 3 Axes>"
      ]
     },
     "metadata": {},
     "output_type": "display_data"
    }
   ],
   "source": [
    "sns.jointplot(x='totbmd', y='y_pred_ridge', data=full_pred_results)\n",
    "#df.plot('totbmd', 'y_pred_ridge', kind='scatter', alpha=0.3)"
   ]
  },
  {
   "cell_type": "markdown",
   "metadata": {},
   "source": [
    "**This fit is quite good. I'm curious if the fit gets better as the number of visits increase, since the training data would be larger for later visits.**"
   ]
  },
  {
   "cell_type": "markdown",
   "metadata": {},
   "source": [
    "### Does the fit get better with increasing visit number?"
   ]
  },
  {
   "cell_type": "markdown",
   "metadata": {},
   "source": [
    "For this, I will calculate the mse for each row and then plot the mse vs. visit number to see if there is a negative relationship between the two"
   ]
  },
  {
   "cell_type": "markdown",
   "metadata": {},
   "source": [
    "Calculate mae for each entry"
   ]
  },
  {
   "cell_type": "code",
   "execution_count": 81,
   "metadata": {},
   "outputs": [],
   "source": [
    "full_pred_results['mae'] = np.abs(full_pred_results['y_pred_ridge'] - full_pred_results['totbmd'])"
   ]
  },
  {
   "cell_type": "markdown",
   "metadata": {},
   "source": [
    "Plot mae vs. visit number "
   ]
  },
  {
   "cell_type": "code",
   "execution_count": 88,
   "metadata": {},
   "outputs": [
    {
     "data": {
      "text/plain": [
       "(-0.03965807456872012, 0.2)"
      ]
     },
     "execution_count": 88,
     "metadata": {},
     "output_type": "execute_result"
    },
    {
     "data": {
      "image/png": "[encoded data removed]",
      "text/plain": [
       "<Figure size 432x288 with 1 Axes>"
      ]
     },
     "metadata": {},
     "output_type": "display_data"
    }
   ],
   "source": [
    "sns.boxplot(x='visit', y='mae', data=full_pred_results, fliersize=False)\n",
    "ax = plt.gca()\n",
    "ax.set_ylim(top=0.2)"
   ]
  },
  {
   "cell_type": "markdown",
   "metadata": {},
   "source": [
    "This shows an ever so slight decrease in the MAE from visit 4 to visit 8. Let's see if the difference in MAE is statistically different. Because these measures are correlated, we'll use a paired t-test. To get the data formatted for this, I will filter for just visit 4 and 8, then pivot the table using id as an index and visit as the new columns and mae as the value. Then, I can take the two columns as the two samples in the paired t-test. "
   ]
  },
  {
   "cell_type": "markdown",
   "metadata": {},
   "source": [
    "### Run paired t-test to see if visit 4 and 8 have significantly different MAE"
   ]
  },
  {
   "cell_type": "markdown",
   "metadata": {},
   "source": [
    "Filter for visit 4 and 8"
   ]
  },
  {
   "cell_type": "code",
   "execution_count": 90,
   "metadata": {},
   "outputs": [],
   "source": [
    "t_test_df = full_pred_results.copy()"
   ]
  },
  {
   "cell_type": "code",
   "execution_count": 92,
   "metadata": {},
   "outputs": [],
   "source": [
    "t_test_df = t_test_df.loc[\n",
    "    t_test_df['visit'].isin([4,8])\n",
    "]"
   ]
  },
  {
   "cell_type": "markdown",
   "metadata": {},
   "source": [
    "Pivot table using id as an index and visit as the new columns and mae as the value"
   ]
  },
  {
   "cell_type": "code",
   "execution_count": 93,
   "metadata": {},
   "outputs": [
    {
     "data": {
      "text/html": [
       "<div>\n",
       "<style scoped>\n",
       "    .dataframe tbody tr th:only-of-type {\n",
       "        vertical-align: middle;\n",
       "    }\n",
       "\n",
       "    .dataframe tbody tr th {\n",
       "        vertical-align: top;\n",
       "    }\n",
       "\n",
       "    .dataframe thead th {\n",
       "        text-align: right;\n",
       "    }\n",
       "</style>\n",
       "<table border=\"1\" class=\"dataframe\">\n",
       "  <thead>\n",
       "    <tr style=\"text-align: right;\">\n",
       "      <th></th>\n",
       "      <th>id</th>\n",
       "      <th>visit</th>\n",
       "      <th>totbmd</th>\n",
       "      <th>nbmd</th>\n",
       "      <th>vdate</th>\n",
       "      <th>v2date</th>\n",
       "      <th>bmi</th>\n",
       "      <th>n_iadl</th>\n",
       "      <th>age</th>\n",
       "      <th>meno_age</th>\n",
       "      <th>del_totbmd</th>\n",
       "      <th>base_totbmd</th>\n",
       "      <th>y_pred_ridge</th>\n",
       "      <th>mae</th>\n",
       "    </tr>\n",
       "  </thead>\n",
       "  <tbody>\n",
       "    <tr>\n",
       "      <th>1</th>\n",
       "      <td>10001</td>\n",
       "      <td>4</td>\n",
       "      <td>1.101</td>\n",
       "      <td>0.986</td>\n",
       "      <td>09/10/92</td>\n",
       "      <td>03/20/89</td>\n",
       "      <td>28.0</td>\n",
       "      <td>1.0</td>\n",
       "      <td>67.0</td>\n",
       "      <td>50.0</td>\n",
       "      <td>NaN</td>\n",
       "      <td>1.0857</td>\n",
       "      <td>0.929756</td>\n",
       "      <td>0.171244</td>\n",
       "    </tr>\n",
       "    <tr>\n",
       "      <th>6</th>\n",
       "      <td>10002</td>\n",
       "      <td>4</td>\n",
       "      <td>0.486</td>\n",
       "      <td>0.320</td>\n",
       "      <td>09/17/93</td>\n",
       "      <td>02/17/89</td>\n",
       "      <td>24.0</td>\n",
       "      <td>0.0</td>\n",
       "      <td>69.0</td>\n",
       "      <td>53.0</td>\n",
       "      <td>NaN</td>\n",
       "      <td>0.5026</td>\n",
       "      <td>0.627669</td>\n",
       "      <td>0.141669</td>\n",
       "    </tr>\n",
       "  </tbody>\n",
       "</table>\n",
       "</div>"
      ],
      "text/plain": [
       "      id  visit  totbmd   nbmd     vdate    v2date   bmi  n_iadl   age  \\\n",
       "1  10001      4   1.101  0.986  09/10/92  03/20/89  28.0     1.0  67.0   \n",
       "6  10002      4   0.486  0.320  09/17/93  02/17/89  24.0     0.0  69.0   \n",
       "\n",
       "   meno_age  del_totbmd  base_totbmd  y_pred_ridge       mae  \n",
       "1      50.0         NaN       1.0857      0.929756  0.171244  \n",
       "6      53.0         NaN       0.5026      0.627669  0.141669  "
      ]
     },
     "execution_count": 93,
     "metadata": {},
     "output_type": "execute_result"
    }
   ],
   "source": [
    "t_test_df.head(2)"
   ]
  },
  {
   "cell_type": "code",
   "execution_count": 108,
   "metadata": {},
   "outputs": [],
   "source": [
    "t_test_pivoted_df = t_test_df\\\n",
    "                        .pivot_table(values='mae', index='id', columns='visit')\\\n",
    "                        .dropna()"
   ]
  },
  {
   "cell_type": "markdown",
   "metadata": {},
   "source": [
    "Paired t-test"
   ]
  },
  {
   "cell_type": "code",
   "execution_count": 113,
   "metadata": {},
   "outputs": [
    {
     "name": "stdout",
     "output_type": "stream",
     "text": [
      "The p-value of the wilcoxon rank sum test is 0.00000000225\n"
     ]
    }
   ],
   "source": [
    "from scipy.stats import wilcoxon\n",
    "_, p_value = wilcoxon(x=t_test_pivoted_df[4], y=t_test_pivoted_df[8])\n",
    "print 'The p-value of the wilcoxon rank sum test is %0.11f' % p_value"
   ]
  },
  {
   "cell_type": "markdown",
   "metadata": {},
   "source": [
    "**Is there is a negative relationship between the two? --> Yes**"
   ]
  },
  {
   "cell_type": "markdown",
   "metadata": {},
   "source": [
    "## Random forest model"
   ]
  },
  {
   "cell_type": "code",
   "execution_count": null,
   "metadata": {},
   "outputs": [],
   "source": []
  },
  {
   "cell_type": "markdown",
   "metadata": {},
   "source": [
    "## Display R2 and RMSE using these methods"
   ]
  },
  {
   "cell_type": "code",
   "execution_count": null,
   "metadata": {},
   "outputs": [],
   "source": []
  }
 ],
 "metadata": {
  "kernelspec": {
   "display_name": "Python 3",
   "language": "python",
   "name": "python3"
  },
  "language_info": {
   "codemirror_mode": {
    "name": "ipython",
    "version": 2
   },
   "file_extension": ".py",
   "mimetype": "text/x-python",
   "name": "python",
   "nbconvert_exporter": "python",
   "pygments_lexer": "ipython2",
   "version": "2.7.10"
  },
  "toc": {
   "base_numbering": 1,
   "nav_menu": {},
   "number_sections": true,
   "sideBar": true,
   "skip_h1_title": false,
   "title_cell": "Table of Contents",
   "title_sidebar": "Contents",
   "toc_cell": false,
   "toc_position": {},
   "toc_section_display": true,
   "toc_window_display": true
  }
 },
 "nbformat": 4,
 "nbformat_minor": 2
}
