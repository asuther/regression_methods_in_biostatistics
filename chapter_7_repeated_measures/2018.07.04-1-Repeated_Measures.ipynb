{
 "cells": [
  {
   "cell_type": "markdown",
   "metadata": {},
   "source": [
    "# Repeated_Measures"
   ]
  },
  {
   "cell_type": "markdown",
   "metadata": {},
   "source": [
    "# A Simple Repeated Measure Example: Fecal Fat"
   ]
  },
  {
   "cell_type": "markdown",
   "metadata": {},
   "source": [
    "**Background: **A lack of digestive enzymes in the intestines can cause absorption problems, leading to excess fat in the feces. Pancreatic enzymes can be given to ameliorate the problem. Data was collected using multiple types of pills, including placebo, a normal tablet, an uncoated capsule, and a coated capsule. Each patient was given each type of pill and their fecal fat grams per day was measured. \n",
    "\n",
    "Therefore, we can think of this as a repeated measures study, since each patient has four measurements. \n",
    "\n",
    "The only predictor in this case is the pill type, and the outcome is the (continuous) variable of fecal fat in g/day. \n",
    "\n",
    "**Purpose: **To identify what the best pill type is for reducing fecal fat\n",
    "\n",
    "**Methods: **First, I will follow the example of the chapter and try an ANOVA test\n",
    "\n",
    "**Conclusions: **"
   ]
  },
  {
   "cell_type": "markdown",
   "metadata": {},
   "source": [
    "# Inits"
   ]
  },
  {
   "cell_type": "markdown",
   "metadata": {},
   "source": [
    "## Imports"
   ]
  },
  {
   "cell_type": "code",
   "execution_count": null,
   "metadata": {},
   "outputs": [],
   "source": []
  },
  {
   "cell_type": "markdown",
   "metadata": {},
   "source": [
    "## ANOVA test"
   ]
  },
  {
   "cell_type": "markdown",
   "metadata": {},
   "source": [
    "Using a one-way ANOVA test would allow us to determine whether these groups are significantly different. The one-way ANOVA F-test has a null hypothesis that the mean outcome is the same in all groups, with an alternative hypothesis that the means differ in at least two of the populations. \n",
    "\n",
    "$H_{0}: \\mu_{placebo} = \\mu_{tablet} = \\mu_{uncoated\\ capsule} = \\mu_{coated\\ capsule}$\n",
    "\n",
    "$H_{A}: \\mu_{placebo} \\neq \\mu_{tablet} \\neq \\mu_{uncoated\\ capsule} \\neq \\mu_{coated\\ capsule}$\n",
    "\n",
    "To use this ANOVA test, I will first load the data, then run a one-way ANOVA F-test on it"
   ]
  },
  {
   "cell_type": "markdown",
   "metadata": {},
   "source": [
    "### Load the data"
   ]
  },
  {
   "cell_type": "code",
   "execution_count": 3,
   "metadata": {},
   "outputs": [],
   "source": [
    "fec_fat_df = read.csv('./data/fecfat.csv')"
   ]
  },
  {
   "cell_type": "code",
   "execution_count": 5,
   "metadata": {},
   "outputs": [
    {
     "data": {
      "text/html": [
       "<table>\n",
       "<thead><tr><th scope=col>fecfat</th><th scope=col>subject</th><th scope=col>pilltype</th></tr></thead>\n",
       "<tbody>\n",
       "\t<tr><td>44.5   </td><td>1      </td><td>none   </td></tr>\n",
       "\t<tr><td> 7.3   </td><td>1      </td><td>tablet </td></tr>\n",
       "\t<tr><td> 3.4   </td><td>1      </td><td>capsule</td></tr>\n",
       "\t<tr><td>12.4   </td><td>1      </td><td>coated </td></tr>\n",
       "\t<tr><td>33.0   </td><td>2      </td><td>none   </td></tr>\n",
       "\t<tr><td>23.1   </td><td>2      </td><td>capsule</td></tr>\n",
       "</tbody>\n",
       "</table>\n"
      ],
      "text/latex": [
       "\\begin{tabular}{r|lll}\n",
       " fecfat & subject & pilltype\\\\\n",
       "\\hline\n",
       "\t 44.5    & 1       & none   \\\\\n",
       "\t  7.3    & 1       & tablet \\\\\n",
       "\t  3.4    & 1       & capsule\\\\\n",
       "\t 12.4    & 1       & coated \\\\\n",
       "\t 33.0    & 2       & none   \\\\\n",
       "\t 23.1    & 2       & capsule\\\\\n",
       "\\end{tabular}\n"
      ],
      "text/markdown": [
       "\n",
       "fecfat | subject | pilltype | \n",
       "|---|---|---|---|---|---|\n",
       "| 44.5    | 1       | none    | \n",
       "|  7.3    | 1       | tablet  | \n",
       "|  3.4    | 1       | capsule | \n",
       "| 12.4    | 1       | coated  | \n",
       "| 33.0    | 2       | none    | \n",
       "| 23.1    | 2       | capsule | \n",
       "\n",
       "\n"
      ],
      "text/plain": [
       "  fecfat subject pilltype\n",
       "1 44.5   1       none    \n",
       "2  7.3   1       tablet  \n",
       "3  3.4   1       capsule \n",
       "4 12.4   1       coated  \n",
       "5 33.0   2       none    \n",
       "6 23.1   2       capsule "
      ]
     },
     "metadata": {},
     "output_type": "display_data"
    }
   ],
   "source": [
    "head(fec_fat_df)"
   ]
  },
  {
   "cell_type": "markdown",
   "metadata": {},
   "source": [
    "### Run one-way ANOVA F-test"
   ]
  },
  {
   "cell_type": "markdown",
   "metadata": {},
   "source": [
    "To run an ANOVA test, the group column is `pilltype`, and the response is the `fecfat`. Let's first check that the group column is formatted properly:"
   ]
  },
  {
   "cell_type": "code",
   "execution_count": 8,
   "metadata": {},
   "outputs": [
    {
     "data": {
      "text/html": [
       "<ol class=list-inline>\n",
       "\t<li>'capsule'</li>\n",
       "\t<li>'coated'</li>\n",
       "\t<li>'none'</li>\n",
       "\t<li>'tablet'</li>\n",
       "</ol>\n"
      ],
      "text/latex": [
       "\\begin{enumerate*}\n",
       "\\item 'capsule'\n",
       "\\item 'coated'\n",
       "\\item 'none'\n",
       "\\item 'tablet'\n",
       "\\end{enumerate*}\n"
      ],
      "text/markdown": [
       "1. 'capsule'\n",
       "2. 'coated'\n",
       "3. 'none'\n",
       "4. 'tablet'\n",
       "\n",
       "\n"
      ],
      "text/plain": [
       "[1] \"capsule\" \"coated\"  \"none\"    \"tablet\" "
      ]
     },
     "metadata": {},
     "output_type": "display_data"
    }
   ],
   "source": [
    "levels(fec_fat_df$pilltype)"
   ]
  },
  {
   "cell_type": "markdown",
   "metadata": {},
   "source": [
    "This looks good. Now, let's calculate the ANOVA and then show the F-test results"
   ]
  },
  {
   "cell_type": "code",
   "execution_count": 9,
   "metadata": {},
   "outputs": [],
   "source": [
    "res.aov = aov(fecfat ~ pilltype, data = fec_fat_df)"
   ]
  },
  {
   "cell_type": "code",
   "execution_count": 10,
   "metadata": {},
   "outputs": [
    {
     "data": {
      "text/plain": [
       "            Df Sum Sq Mean Sq F value Pr(>F)\n",
       "pilltype     3   2009   669.5   1.862  0.169\n",
       "Residuals   20   7193   359.7               "
      ]
     },
     "metadata": {},
     "output_type": "display_data"
    }
   ],
   "source": [
    "summary(res.aov)"
   ]
  },
  {
   "cell_type": "markdown",
   "metadata": {},
   "source": [
    "This shows that the F-value is 1.86, giving a p-value of 0.169, which is not significant"
   ]
  },
  {
   "cell_type": "code",
   "execution_count": null,
   "metadata": {},
   "outputs": [],
   "source": []
  }
 ],
 "metadata": {
  "kernelspec": {
   "display_name": "R",
   "language": "R",
   "name": "ir"
  },
  "language_info": {
   "codemirror_mode": "r",
   "file_extension": ".r",
   "mimetype": "text/x-r-source",
   "name": "R",
   "pygments_lexer": "r",
   "version": "3.5.0"
  },
  "toc": {
   "base_numbering": 1,
   "nav_menu": {},
   "number_sections": true,
   "sideBar": true,
   "skip_h1_title": false,
   "title_cell": "Table of Contents",
   "title_sidebar": "Contents",
   "toc_cell": false,
   "toc_position": {
    "height": "calc(100% - 180px)",
    "left": "10px",
    "top": "150px",
    "width": "232px"
   },
   "toc_section_display": true,
   "toc_window_display": true
  }
 },
 "nbformat": 4,
 "nbformat_minor": 2
}
