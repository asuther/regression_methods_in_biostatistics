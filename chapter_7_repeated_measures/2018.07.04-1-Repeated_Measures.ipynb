{
 "cells": [
  {
   "cell_type": "markdown",
   "metadata": {},
   "source": [
    "# Repeated_Measures"
   ]
  },
  {
   "cell_type": "markdown",
   "metadata": {},
   "source": [
    "**Background: **A lack of digestive enzymes in the intestines can cause absorption problems, leading to excess fat in the feces. Pancreatic enzymes can be given to ameliorate the problem. Data was collected using multiple types of pills, including placebo, a normal tablet, an uncoated capsule, and a coated capsule. Each patient was given each type of pill and their fecal fat grams per day was measured. \n",
    "\n",
    "Therefore, we can think of this as a repeated measures study, since each patient has four measurements. \n",
    "\n",
    "The only predictor in this case is the pill type, and the outcome is the (continuous) variable of fecal fat in g/day. \n",
    "\n",
    "**Purpose: **To identify what the best pill type is for reducing fecal fat\n",
    "\n",
    "**Methods: **First, I will follow the example of the chapter and try an ANOVA test\n",
    "\n",
    "**Conclusions: **"
   ]
  },
  {
   "cell_type": "markdown",
   "metadata": {},
   "source": [
    "# Inits"
   ]
  },
  {
   "cell_type": "markdown",
   "metadata": {},
   "source": [
    "## Imports"
   ]
  },
  {
   "cell_type": "code",
   "execution_count": null,
   "metadata": {},
   "outputs": [],
   "source": []
  },
  {
   "cell_type": "markdown",
   "metadata": {},
   "source": [
    "# A Simple Repeated Measure Example: Fecal Fat"
   ]
  },
  {
   "cell_type": "markdown",
   "metadata": {},
   "source": [
    "## ANOVA test"
   ]
  },
  {
   "cell_type": "markdown",
   "metadata": {},
   "source": [
    "Using a one-way ANOVA test would allow us to determine whether these groups are significantly different. The one-way ANOVA F-test has a null hypothesis that the mean outcome is the same in all groups, with an alternative hypothesis that the means differ in at least two of the populations. \n",
    "\n",
    "$H_{0}: \\mu_{placebo} = \\mu_{tablet} = \\mu_{uncoated\\ capsule} = \\mu_{coated\\ capsule}$\n",
    "\n",
    "$H_{A}: \\mu_{placebo} \\neq \\mu_{tablet} \\neq \\mu_{uncoated\\ capsule} \\neq \\mu_{coated\\ capsule}$\n",
    "\n",
    "To use this ANOVA test, I will first load the data, then run a one-way ANOVA F-test on it"
   ]
  },
  {
   "cell_type": "markdown",
   "metadata": {},
   "source": [
    "### Load the data"
   ]
  },
  {
   "cell_type": "code",
   "execution_count": null,
   "metadata": {},
   "outputs": [],
   "source": [
    "fec_fat_df = read.csv('./data/fecfat.csv')"
   ]
  },
  {
   "cell_type": "code",
   "execution_count": null,
   "metadata": {},
   "outputs": [],
   "source": [
    "head(fec_fat_df)"
   ]
  },
  {
   "cell_type": "markdown",
   "metadata": {},
   "source": [
    "### Run one-way ANOVA F-test"
   ]
  },
  {
   "cell_type": "markdown",
   "metadata": {},
   "source": [
    "To run an ANOVA test, the group column is `pilltype`, and the response is the `fecfat`. Let's first check that the group column is formatted properly:"
   ]
  },
  {
   "cell_type": "code",
   "execution_count": null,
   "metadata": {},
   "outputs": [],
   "source": [
    "levels(fec_fat_df$pilltype)"
   ]
  },
  {
   "cell_type": "markdown",
   "metadata": {},
   "source": [
    "This looks good. Now, let's calculate the ANOVA and then show the F-test results"
   ]
  },
  {
   "cell_type": "code",
   "execution_count": null,
   "metadata": {},
   "outputs": [],
   "source": [
    "res.aov = aov(fecfat ~ pilltype, data = fec_fat_df)"
   ]
  },
  {
   "cell_type": "code",
   "execution_count": null,
   "metadata": {},
   "outputs": [],
   "source": [
    "summary(res.aov)"
   ]
  },
  {
   "cell_type": "markdown",
   "metadata": {},
   "source": [
    "This shows that the F-value is 1.86, giving a p-value of 0.169, which is not significant. **However, the use of a one-\n",
    "way ANOVA test in invalid here, since it assumes that all observations are independent.** This would've only been valid had we have collected data from six different subjects for each pill type. This would have been a less precise experiment, however, since we now lose the unique aspects of each patient. \n",
    "\n",
    "To conduct this experiment properly, we use a two-way ANOVA test, removing the variability between patients. "
   ]
  },
  {
   "cell_type": "markdown",
   "metadata": {},
   "source": [
    "### Running two-way ANOVA"
   ]
  },
  {
   "cell_type": "markdown",
   "metadata": {},
   "source": [
    "In order to run a two way comparison, we need to have two columns for the category: subject_id and the pill type. Because the subject column is not a factor, I will convert it to one"
   ]
  },
  {
   "cell_type": "code",
   "execution_count": null,
   "metadata": {
    "scrolled": true
   },
   "outputs": [],
   "source": [
    "fec_fat_df$subject = factor(fec_fat_df$subject)"
   ]
  },
  {
   "cell_type": "markdown",
   "metadata": {},
   "source": [
    "For the two-way ANOVA, I will create a function to calculate it"
   ]
  },
  {
   "cell_type": "code",
   "execution_count": null,
   "metadata": {},
   "outputs": [],
   "source": [
    "anova(lm( ~ Treatment * Age, dataTwoWayComparisons))"
   ]
  }
 ],
 "metadata": {
  "kernelspec": {
   "display_name": "R",
   "language": "R",
   "name": "ir"
  },
  "language_info": {
   "codemirror_mode": "r",
   "file_extension": ".r",
   "mimetype": "text/x-r-source",
   "name": "R",
   "pygments_lexer": "r",
   "version": "3.5.0"
  },
  "toc": {
   "base_numbering": 1,
   "nav_menu": {},
   "number_sections": true,
   "sideBar": true,
   "skip_h1_title": false,
   "title_cell": "Table of Contents",
   "title_sidebar": "Contents",
   "toc_cell": false,
   "toc_position": {
    "height": "calc(100% - 180px)",
    "left": "10px",
    "top": "150px",
    "width": "232px"
   },
   "toc_section_display": true,
   "toc_window_display": true
  }
 },
 "nbformat": 4,
 "nbformat_minor": 2
}
