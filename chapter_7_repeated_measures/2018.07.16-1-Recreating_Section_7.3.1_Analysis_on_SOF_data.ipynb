{
 "cells": [
  {
   "cell_type": "markdown",
   "metadata": {},
   "source": [
    "# Recreating_Section_7.3.1_Analysis_on_SOF_data"
   ]
  },
  {
   "cell_type": "markdown",
   "metadata": {},
   "source": [
    "**Background: **In the text, an analysis is performed to measure whether change in BMD is related to menopause age using a non-multi-level model (which they say is not the correct way of analyzing it). I was not able to understand what the predictors in the model were, so I want to create my own version of it here. \n",
    "\n",
    "**Purpose: **To recreate the analysis performed in section 7.3.1 to better understand what all the predictors mean\n",
    "\n",
    "**Methods: **\n",
    ">1. Introduction\n",
    ">2. Inits\n",
    ">3. Load SOF data\n",
    ">4. Read textbook's Stata code\n",
    ">5. Recreate Stata code in R\n",
    ">6. Cross-check my results with the textbook's\n",
    "\n",
    "**Conclusions: **\n",
    "* The fit results didn't match perfectly but they were quite close to what was shown in the textbook"
   ]
  },
  {
   "cell_type": "markdown",
   "metadata": {},
   "source": [
    "# Inits"
   ]
  },
  {
   "cell_type": "markdown",
   "metadata": {},
   "source": [
    "## Imports"
   ]
  },
  {
   "cell_type": "code",
   "execution_count": null,
   "metadata": {},
   "outputs": [],
   "source": [
    "#loading the Splines Packages\n",
    "require(splines)\n",
    "#ISLR contains the Dataset\n",
    "require(ISLR)\n",
    "library(ggplot2)"
   ]
  },
  {
   "cell_type": "markdown",
   "metadata": {},
   "source": [
    "## Definitions"
   ]
  },
  {
   "cell_type": "code",
   "execution_count": null,
   "metadata": {},
   "outputs": [],
   "source": []
  },
  {
   "cell_type": "markdown",
   "metadata": {},
   "source": [
    "## Funcs"
   ]
  },
  {
   "cell_type": "code",
   "execution_count": null,
   "metadata": {},
   "outputs": [],
   "source": []
  },
  {
   "cell_type": "markdown",
   "metadata": {},
   "source": [
    "# Load SOF data"
   ]
  },
  {
   "cell_type": "code",
   "execution_count": null,
   "metadata": {},
   "outputs": [],
   "source": [
    "sof_df = read.csv('./data/sof.csv')\n",
    "sof_df$id = factor(sof_df$id)"
   ]
  },
  {
   "cell_type": "code",
   "execution_count": null,
   "metadata": {},
   "outputs": [],
   "source": [
    "str(sof_df)"
   ]
  },
  {
   "cell_type": "markdown",
   "metadata": {},
   "source": [
    "# Read textbook's Stata code"
   ]
  },
  {
   "cell_type": "markdown",
   "metadata": {},
   "source": [
    "use sof.dta, clear\n",
    "\n",
    "gen meno_ov_52=meno_age>52\n",
    "\n",
    "replace meno_ov_52=. if meno_age==.\n",
    "\n",
    "mkspline visit_spl=visit, cubic nknots(3)\n",
    "\n",
    "save sof2.dta, replace\n",
    "\n",
    "regress totbmd i.meno_ov visit_spl* i.meno_ov#c.visit_spl*\n",
    "\n",
    "predict pred_spl\n"
   ]
  },
  {
   "cell_type": "markdown",
   "metadata": {},
   "source": [
    "# Recreate Stata code in R"
   ]
  },
  {
   "cell_type": "markdown",
   "metadata": {},
   "source": [
    "First, I will need to create the `meno_age_gt_52` variable, then remove it's nan values. Then fit a cuibic spline using `meno_age_gt_52` as well as the visits, and finally print out the summary"
   ]
  },
  {
   "cell_type": "markdown",
   "metadata": {},
   "source": [
    "## Create `meno_age_gt_52` variable"
   ]
  },
  {
   "cell_type": "code",
   "execution_count": null,
   "metadata": {},
   "outputs": [],
   "source": [
    "sof_df$meno_age_gt_52 = sof_df$meno_age > 52"
   ]
  },
  {
   "cell_type": "markdown",
   "metadata": {},
   "source": [
    "## Remove `meno_age_gt_52` nan values"
   ]
  },
  {
   "cell_type": "markdown",
   "metadata": {},
   "source": [
    "This is done automatically in R"
   ]
  },
  {
   "cell_type": "markdown",
   "metadata": {},
   "source": [
    "## Fit cubic spline using `meno_age_gt_52` as well as `visits`"
   ]
  },
  {
   "cell_type": "code",
   "execution_count": null,
   "metadata": {},
   "outputs": [],
   "source": [
    "fit = lm(totbmd ~ bs(visit, knots=3, degree=1)*meno_age_gt_52, data = sof_df)"
   ]
  },
  {
   "cell_type": "markdown",
   "metadata": {},
   "source": [
    "## Print out summary"
   ]
  },
  {
   "cell_type": "code",
   "execution_count": null,
   "metadata": {},
   "outputs": [],
   "source": [
    "summary(fit)"
   ]
  },
  {
   "cell_type": "markdown",
   "metadata": {},
   "source": [
    "**These results don't match perfectly but they are quite close to what was shown in the textbook**"
   ]
  },
  {
   "cell_type": "markdown",
   "metadata": {},
   "source": [
    "# Cross-check my results with the textbook's"
   ]
  },
  {
   "cell_type": "markdown",
   "metadata": {},
   "source": [
    "## Plot predictions"
   ]
  },
  {
   "cell_type": "markdown",
   "metadata": {},
   "source": [
    "First, I need to generate predictions for each value of `visits` to plot"
   ]
  },
  {
   "cell_type": "code",
   "execution_count": null,
   "metadata": {},
   "outputs": [],
   "source": [
    "pred_results = cbind(sof_df)\n",
    "pred_results$totbmd.pred = predict(fit, newdata = pred_results)"
   ]
  },
  {
   "cell_type": "markdown",
   "metadata": {},
   "source": [
    "Plotting the prediction of `totbmd` vs. `visits`, split by `meno_age_gt_52`"
   ]
  },
  {
   "cell_type": "code",
   "execution_count": null,
   "metadata": {},
   "outputs": [],
   "source": [
    "options(repr.plot.width=7, repr.plot.height=3)\n",
    "(\n",
    "    ggplot(pred_results, aes(x=visit, y=totbmd.pred, color=meno_age_gt_52)) \n",
    "    + geom_line() \n",
    "    + geom_point()\n",
    "    + ggtitle('Predicted BMD vs. visits, split by meno_age > 52')\n",
    ")"
   ]
  },
  {
   "cell_type": "code",
   "execution_count": null,
   "metadata": {},
   "outputs": [],
   "source": []
  }
 ],
 "metadata": {
  "kernelspec": {
   "display_name": "R",
   "language": "R",
   "name": "ir"
  },
  "language_info": {
   "codemirror_mode": "r",
   "file_extension": ".r",
   "mimetype": "text/x-r-source",
   "name": "R",
   "pygments_lexer": "r",
   "version": "3.5.0"
  },
  "toc": {
   "base_numbering": 1,
   "nav_menu": {},
   "number_sections": true,
   "sideBar": true,
   "skip_h1_title": false,
   "title_cell": "Table of Contents",
   "title_sidebar": "Contents",
   "toc_cell": false,
   "toc_position": {},
   "toc_section_display": true,
   "toc_window_display": true
  }
 },
 "nbformat": 4,
 "nbformat_minor": 2
}
